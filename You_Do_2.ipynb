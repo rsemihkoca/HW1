{
  "nbformat": 4,
  "nbformat_minor": 0,
  "metadata": {
    "colab": {
      "name": "You_Do_2.ipynb",
      "provenance": [],
      "collapsed_sections": [],
      "authorship_tag": "ABX9TyOY3qlRDuagesOvoBewrMrr",
      "include_colab_link": true
    },
    "kernelspec": {
      "name": "python3",
      "display_name": "Python 3"
    },
    "language_info": {
      "name": "python"
    }
  },
  "cells": [
    {
      "cell_type": "markdown",
      "metadata": {
        "id": "view-in-github",
        "colab_type": "text"
      },
      "source": [
        "<a href=\"https://colab.research.google.com/github/rsemihkoca/YouDo-ds-bc/blob/main/You_Do_2.ipynb\" target=\"_parent\"><img src=\"https://colab.research.google.com/assets/colab-badge.svg\" alt=\"Open In Colab\"/></a>"
      ]
    },
    {
      "cell_type": "code",
      "execution_count": 3,
      "metadata": {
        "colab": {
          "base_uri": "https://localhost:8080/"
        },
        "id": "uz9nmthnDBSg",
        "outputId": "3c66fb03-edc3-466e-97a3-571d71c87f90"
      },
      "outputs": [
        {
          "output_type": "stream",
          "name": "stderr",
          "text": [
            "/usr/local/lib/python3.7/dist-packages/pandas/util/_decorators.py:311: ParserWarning: Falling back to the 'python' engine because the 'c' engine does not support regex separators (separators > 1 char and different from '\\s+' are interpreted as regex); you can avoid this warning by specifying engine='python'.\n",
            "  return func(*args, **kwargs)\n"
          ]
        }
      ],
      "source": [
        "import numpy as np\n",
        "import pandas as pd\n",
        "df = pd.read_csv('https://files.grouplens.org/datasets/movielens/ml-100k/u.data', delimiter=r'\\t',names=['user_id', 'item_id', 'rating', 'timestamp'])\n",
        "r = df.pivot(index='user_id', columns='item_id', values='rating').values\n",
        "\n"
      ]
    },
    {
      "cell_type": "markdown",
      "source": [
        "# Part 0 Train-Test Split"
      ],
      "metadata": {
        "id": "_TiHXmFFPFKC"
      }
    },
    {
      "cell_type": "code",
      "source": [
        "irow, jcol = np.where(~np.isnan(r))\n",
        "n=int(len(irow)*0.2)\n",
        "\n",
        "idx = np.random.choice(np.arange(len(irow)), n, replace=False)"
      ],
      "metadata": {
        "id": "uVe4m4d2KyEK"
      },
      "execution_count": 4,
      "outputs": []
    },
    {
      "cell_type": "code",
      "source": [
        "\n",
        "test_irow = irow[idx]\n",
        "test_jcol = jcol[idx]\n",
        "jcol[idx].shape"
      ],
      "metadata": {
        "colab": {
          "base_uri": "https://localhost:8080/"
        },
        "id": "xuH25LxYK333",
        "outputId": "fd0e2653-85f7-4dc4-8257-92821520c089"
      },
      "execution_count": 5,
      "outputs": [
        {
          "output_type": "execute_result",
          "data": {
            "text/plain": [
              "(20000,)"
            ]
          },
          "metadata": {},
          "execution_count": 5
        }
      ]
    },
    {
      "cell_type": "code",
      "source": [
        "r_original=r.copy()\n",
        "r_copy = r.copy()\n",
        "l=0\n",
        "for i in range(n):\n",
        "  r_copy[test_irow[i]][test_jcol[i]] = np.nan\n",
        "  l+=1"
      ],
      "metadata": {
        "id": "XjBa_cDCK5uC"
      },
      "execution_count": 6,
      "outputs": []
    },
    {
      "cell_type": "code",
      "source": [
        "np.isnan(r_copy).sum()-np.isnan(r_original).sum()"
      ],
      "metadata": {
        "colab": {
          "base_uri": "https://localhost:8080/"
        },
        "id": "jNfAqZnTK6ND",
        "outputId": "3e4a0b0e-0532-40ee-859a-faa4ef5f942b"
      },
      "execution_count": 7,
      "outputs": [
        {
          "output_type": "execute_result",
          "data": {
            "text/plain": [
              "20000"
            ]
          },
          "metadata": {},
          "execution_count": 7
        }
      ]
    },
    {
      "cell_type": "code",
      "source": [
        "users,items=r_copy.shape"
      ],
      "metadata": {
        "id": "RXVXf4MkLA0D"
      },
      "execution_count": 8,
      "outputs": []
    },
    {
      "cell_type": "code",
      "source": [
        "def train_loss(r,b_users,b_items,irow, jcol):\n",
        "  Train_Loss=0\n",
        "  for u, j in zip(irow, jcol):\n",
        "    Train_Loss+=np.nansum((r[u][j] - (b_users[u] + b_items[j]))**2)*0.5\n",
        "  return Train_Loss\n",
        "\n",
        "def test_loss(r,b_users,b_items,test_irow, test_jcol):\n",
        "  Test_Loss=0\n",
        "  for u, j in zip(test_irow, test_jcol):\n",
        "    Test_Loss+=np.nansum((r[u][j] -  (b_users[u] + b_items[j]))**2)*0.5\n",
        "  return Test_Loss\n",
        "\n"
      ],
      "metadata": {
        "id": "Vs3-4BENNW-w"
      },
      "execution_count": 52,
      "outputs": []
    },
    {
      "cell_type": "markdown",
      "source": [
        "# Part 1 Optimization "
      ],
      "metadata": {
        "id": "b3lIoCFirybb"
      }
    },
    {
      "cell_type": "code",
      "source": [
        "b_users=np.random.rand(users,1)\n",
        "grad_b_users=np.random.rand(users,1)\n",
        "\n",
        "b_items=np.random.rand(items,1)\n",
        "grad_b_items=np.random.rand(items,1)\n",
        "\n",
        "alpha=(3)*(10**-2)\n",
        "max_iter=100\n",
        "r_pred=np.full((r_copy.shape),np.nan)\n",
        "\n",
        "for iter in range(max_iter):\n",
        "  for i in range(users):\n",
        "    for j in range(items):\n",
        "      if np.isnan(r_copy[i][j]): # zaten bilmediğim değeri tahmin edemem NANları nasıl tahmin ederim\n",
        "            continue\n",
        "      else:\n",
        "        try:\n",
        "\n",
        "          r_pred[i][j]= b_users[i] + b_items[j]\n",
        "\n",
        "          grad_b_users[i]=-(r_copy[i][j]-r_pred[i][j])\n",
        "          grad_b_items[j]=-(r_copy[i][j]-r_pred[i][j])\n",
        "\n",
        "          b_users_prev=b_users.copy()\n",
        "\n",
        "          b_users[i] = b_users[i]- alpha * grad_b_users[i]\n",
        "          b_items[j] = b_items[j]- alpha * grad_b_items[j]\n",
        "\n",
        "\n",
        "        except ValueError:\n",
        "          print(\"ValueError encountered\")\n",
        "  Train_Loss= train_loss(r_copy,b_users,b_items,irow, jcol)\n",
        "  Test_Loss= test_loss(r_original,b_users,b_items,test_irow, test_jcol)\n",
        "\n",
        "  if(iter%1 == 0):\n",
        "    print(f\"iteration: ({iter}) , gradient: {np.linalg.norm(grad_b_users)+np.linalg.norm(grad_b_items):.3f}, Train_Loss: {Train_Loss:.3f}, Test_Loss: {Test_Loss:.3f}\")\n",
        "            \n",
        "  # if np.linalg.norm(b_users-b_users_prev) < 0.000001:\n",
        "  #   print(f\"I do early stoping at iteration {iter}\")\n",
        "  #   break\n"
      ],
      "metadata": {
        "colab": {
          "base_uri": "https://localhost:8080/",
          "height": 286
        },
        "id": "2SOa98U_Mn8G",
        "outputId": "f8795c1a-b54c-4f2d-9ec1-4dac4bb3c90e"
      },
      "execution_count": 53,
      "outputs": [
        {
          "output_type": "stream",
          "name": "stdout",
          "text": [
            "iteration: (0) , gradient: 97.509, Train_Loss: 84274.002, Test_Loss: 21298.478\n",
            "iteration: (1) , gradient: 81.732, Train_Loss: 38834.200, Test_Loss: 10061.503\n",
            "iteration: (2) , gradient: 76.219, Train_Loss: 36302.066, Test_Loss: 9441.357\n"
          ]
        },
        {
          "output_type": "error",
          "ename": "KeyboardInterrupt",
          "evalue": "ignored",
          "traceback": [
            "\u001b[0;31m---------------------------------------------------------------------------\u001b[0m",
            "\u001b[0;31mKeyboardInterrupt\u001b[0m                         Traceback (most recent call last)",
            "\u001b[0;32m<ipython-input-53-8a9afacaac14>\u001b[0m in \u001b[0;36m<module>\u001b[0;34m()\u001b[0m\n\u001b[1;32m     12\u001b[0m   \u001b[0;32mfor\u001b[0m \u001b[0mi\u001b[0m \u001b[0;32min\u001b[0m \u001b[0mrange\u001b[0m\u001b[0;34m(\u001b[0m\u001b[0musers\u001b[0m\u001b[0;34m)\u001b[0m\u001b[0;34m:\u001b[0m\u001b[0;34m\u001b[0m\u001b[0;34m\u001b[0m\u001b[0m\n\u001b[1;32m     13\u001b[0m     \u001b[0;32mfor\u001b[0m \u001b[0mj\u001b[0m \u001b[0;32min\u001b[0m \u001b[0mrange\u001b[0m\u001b[0;34m(\u001b[0m\u001b[0mitems\u001b[0m\u001b[0;34m)\u001b[0m\u001b[0;34m:\u001b[0m\u001b[0;34m\u001b[0m\u001b[0;34m\u001b[0m\u001b[0m\n\u001b[0;32m---> 14\u001b[0;31m       \u001b[0;32mif\u001b[0m \u001b[0mnp\u001b[0m\u001b[0;34m.\u001b[0m\u001b[0misnan\u001b[0m\u001b[0;34m(\u001b[0m\u001b[0mr_copy\u001b[0m\u001b[0;34m[\u001b[0m\u001b[0mi\u001b[0m\u001b[0;34m]\u001b[0m\u001b[0;34m[\u001b[0m\u001b[0mj\u001b[0m\u001b[0;34m]\u001b[0m\u001b[0;34m)\u001b[0m\u001b[0;34m:\u001b[0m \u001b[0;31m# zaten bilmediğim değeri tahmin edemem NANları nasıl tahmin ederim\u001b[0m\u001b[0;34m\u001b[0m\u001b[0;34m\u001b[0m\u001b[0m\n\u001b[0m\u001b[1;32m     15\u001b[0m             \u001b[0;32mcontinue\u001b[0m\u001b[0;34m\u001b[0m\u001b[0;34m\u001b[0m\u001b[0m\n\u001b[1;32m     16\u001b[0m       \u001b[0;32melse\u001b[0m\u001b[0;34m:\u001b[0m\u001b[0;34m\u001b[0m\u001b[0;34m\u001b[0m\u001b[0m\n",
            "\u001b[0;31mKeyboardInterrupt\u001b[0m: "
          ]
        }
      ]
    },
    {
      "cell_type": "code",
      "source": [
        "pd.set_option('display.float_format', lambda x: '%.2f' % x)\n",
        "\n",
        "a=pd.DataFrame(r_pred[:5,:10]).fillna('-', inplace=False)\n",
        "b=pd.DataFrame(r_copy[:5,:10]).fillna('-', inplace=False)\n",
        "print(\"                  r_pred vs r_copy\\n\")\n",
        "pd.concat([a,b],axis=0)"
      ],
      "metadata": {
        "colab": {
          "base_uri": "https://localhost:8080/",
          "height": 397
        },
        "id": "4Jqqeo5GPvQX",
        "outputId": "8ce19a75-3f25-4b6c-f09a-eb51ca793ced"
      },
      "execution_count": 54,
      "outputs": [
        {
          "output_type": "stream",
          "name": "stdout",
          "text": [
            "                  r_pred vs r_copy\n",
            "\n"
          ]
        },
        {
          "output_type": "execute_result",
          "data": {
            "text/plain": [
              "     0    1    2    3    4    5    6    7    8    9\n",
              "0 3.75 3.08 2.84 3.29 3.23 3.21 3.80 3.77 3.89    -\n",
              "1    -    -    -    -    -    -    -    -    - 3.27\n",
              "2    -    -    -    -    -    -    -    -    -    -\n",
              "3    -    -    -    -    -    -    -    -    -    -\n",
              "4 3.29 2.57    -    -    -    -    -    -    -    -\n",
              "0 5.00 3.00 4.00 3.00 3.00 5.00 4.00 1.00 5.00    -\n",
              "1    -    -    -    -    -    -    -    -    - 2.00\n",
              "2    -    -    -    -    -    -    -    -    -    -\n",
              "3    -    -    -    -    -    -    -    -    -    -\n",
              "4 4.00 3.00    -    -    -    -    -    -    -    -"
            ],
            "text/html": [
              "\n",
              "  <div id=\"df-72df578b-c364-44bc-9027-ec41bb91f6e4\">\n",
              "    <div class=\"colab-df-container\">\n",
              "      <div>\n",
              "<style scoped>\n",
              "    .dataframe tbody tr th:only-of-type {\n",
              "        vertical-align: middle;\n",
              "    }\n",
              "\n",
              "    .dataframe tbody tr th {\n",
              "        vertical-align: top;\n",
              "    }\n",
              "\n",
              "    .dataframe thead th {\n",
              "        text-align: right;\n",
              "    }\n",
              "</style>\n",
              "<table border=\"1\" class=\"dataframe\">\n",
              "  <thead>\n",
              "    <tr style=\"text-align: right;\">\n",
              "      <th></th>\n",
              "      <th>0</th>\n",
              "      <th>1</th>\n",
              "      <th>2</th>\n",
              "      <th>3</th>\n",
              "      <th>4</th>\n",
              "      <th>5</th>\n",
              "      <th>6</th>\n",
              "      <th>7</th>\n",
              "      <th>8</th>\n",
              "      <th>9</th>\n",
              "    </tr>\n",
              "  </thead>\n",
              "  <tbody>\n",
              "    <tr>\n",
              "      <th>0</th>\n",
              "      <td>3.75</td>\n",
              "      <td>3.08</td>\n",
              "      <td>2.84</td>\n",
              "      <td>3.29</td>\n",
              "      <td>3.23</td>\n",
              "      <td>3.21</td>\n",
              "      <td>3.80</td>\n",
              "      <td>3.77</td>\n",
              "      <td>3.89</td>\n",
              "      <td>-</td>\n",
              "    </tr>\n",
              "    <tr>\n",
              "      <th>1</th>\n",
              "      <td>-</td>\n",
              "      <td>-</td>\n",
              "      <td>-</td>\n",
              "      <td>-</td>\n",
              "      <td>-</td>\n",
              "      <td>-</td>\n",
              "      <td>-</td>\n",
              "      <td>-</td>\n",
              "      <td>-</td>\n",
              "      <td>3.27</td>\n",
              "    </tr>\n",
              "    <tr>\n",
              "      <th>2</th>\n",
              "      <td>-</td>\n",
              "      <td>-</td>\n",
              "      <td>-</td>\n",
              "      <td>-</td>\n",
              "      <td>-</td>\n",
              "      <td>-</td>\n",
              "      <td>-</td>\n",
              "      <td>-</td>\n",
              "      <td>-</td>\n",
              "      <td>-</td>\n",
              "    </tr>\n",
              "    <tr>\n",
              "      <th>3</th>\n",
              "      <td>-</td>\n",
              "      <td>-</td>\n",
              "      <td>-</td>\n",
              "      <td>-</td>\n",
              "      <td>-</td>\n",
              "      <td>-</td>\n",
              "      <td>-</td>\n",
              "      <td>-</td>\n",
              "      <td>-</td>\n",
              "      <td>-</td>\n",
              "    </tr>\n",
              "    <tr>\n",
              "      <th>4</th>\n",
              "      <td>3.29</td>\n",
              "      <td>2.57</td>\n",
              "      <td>-</td>\n",
              "      <td>-</td>\n",
              "      <td>-</td>\n",
              "      <td>-</td>\n",
              "      <td>-</td>\n",
              "      <td>-</td>\n",
              "      <td>-</td>\n",
              "      <td>-</td>\n",
              "    </tr>\n",
              "    <tr>\n",
              "      <th>0</th>\n",
              "      <td>5.00</td>\n",
              "      <td>3.00</td>\n",
              "      <td>4.00</td>\n",
              "      <td>3.00</td>\n",
              "      <td>3.00</td>\n",
              "      <td>5.00</td>\n",
              "      <td>4.00</td>\n",
              "      <td>1.00</td>\n",
              "      <td>5.00</td>\n",
              "      <td>-</td>\n",
              "    </tr>\n",
              "    <tr>\n",
              "      <th>1</th>\n",
              "      <td>-</td>\n",
              "      <td>-</td>\n",
              "      <td>-</td>\n",
              "      <td>-</td>\n",
              "      <td>-</td>\n",
              "      <td>-</td>\n",
              "      <td>-</td>\n",
              "      <td>-</td>\n",
              "      <td>-</td>\n",
              "      <td>2.00</td>\n",
              "    </tr>\n",
              "    <tr>\n",
              "      <th>2</th>\n",
              "      <td>-</td>\n",
              "      <td>-</td>\n",
              "      <td>-</td>\n",
              "      <td>-</td>\n",
              "      <td>-</td>\n",
              "      <td>-</td>\n",
              "      <td>-</td>\n",
              "      <td>-</td>\n",
              "      <td>-</td>\n",
              "      <td>-</td>\n",
              "    </tr>\n",
              "    <tr>\n",
              "      <th>3</th>\n",
              "      <td>-</td>\n",
              "      <td>-</td>\n",
              "      <td>-</td>\n",
              "      <td>-</td>\n",
              "      <td>-</td>\n",
              "      <td>-</td>\n",
              "      <td>-</td>\n",
              "      <td>-</td>\n",
              "      <td>-</td>\n",
              "      <td>-</td>\n",
              "    </tr>\n",
              "    <tr>\n",
              "      <th>4</th>\n",
              "      <td>4.00</td>\n",
              "      <td>3.00</td>\n",
              "      <td>-</td>\n",
              "      <td>-</td>\n",
              "      <td>-</td>\n",
              "      <td>-</td>\n",
              "      <td>-</td>\n",
              "      <td>-</td>\n",
              "      <td>-</td>\n",
              "      <td>-</td>\n",
              "    </tr>\n",
              "  </tbody>\n",
              "</table>\n",
              "</div>\n",
              "      <button class=\"colab-df-convert\" onclick=\"convertToInteractive('df-72df578b-c364-44bc-9027-ec41bb91f6e4')\"\n",
              "              title=\"Convert this dataframe to an interactive table.\"\n",
              "              style=\"display:none;\">\n",
              "        \n",
              "  <svg xmlns=\"http://www.w3.org/2000/svg\" height=\"24px\"viewBox=\"0 0 24 24\"\n",
              "       width=\"24px\">\n",
              "    <path d=\"M0 0h24v24H0V0z\" fill=\"none\"/>\n",
              "    <path d=\"M18.56 5.44l.94 2.06.94-2.06 2.06-.94-2.06-.94-.94-2.06-.94 2.06-2.06.94zm-11 1L8.5 8.5l.94-2.06 2.06-.94-2.06-.94L8.5 2.5l-.94 2.06-2.06.94zm10 10l.94 2.06.94-2.06 2.06-.94-2.06-.94-.94-2.06-.94 2.06-2.06.94z\"/><path d=\"M17.41 7.96l-1.37-1.37c-.4-.4-.92-.59-1.43-.59-.52 0-1.04.2-1.43.59L10.3 9.45l-7.72 7.72c-.78.78-.78 2.05 0 2.83L4 21.41c.39.39.9.59 1.41.59.51 0 1.02-.2 1.41-.59l7.78-7.78 2.81-2.81c.8-.78.8-2.07 0-2.86zM5.41 20L4 18.59l7.72-7.72 1.47 1.35L5.41 20z\"/>\n",
              "  </svg>\n",
              "      </button>\n",
              "      \n",
              "  <style>\n",
              "    .colab-df-container {\n",
              "      display:flex;\n",
              "      flex-wrap:wrap;\n",
              "      gap: 12px;\n",
              "    }\n",
              "\n",
              "    .colab-df-convert {\n",
              "      background-color: #E8F0FE;\n",
              "      border: none;\n",
              "      border-radius: 50%;\n",
              "      cursor: pointer;\n",
              "      display: none;\n",
              "      fill: #1967D2;\n",
              "      height: 32px;\n",
              "      padding: 0 0 0 0;\n",
              "      width: 32px;\n",
              "    }\n",
              "\n",
              "    .colab-df-convert:hover {\n",
              "      background-color: #E2EBFA;\n",
              "      box-shadow: 0px 1px 2px rgba(60, 64, 67, 0.3), 0px 1px 3px 1px rgba(60, 64, 67, 0.15);\n",
              "      fill: #174EA6;\n",
              "    }\n",
              "\n",
              "    [theme=dark] .colab-df-convert {\n",
              "      background-color: #3B4455;\n",
              "      fill: #D2E3FC;\n",
              "    }\n",
              "\n",
              "    [theme=dark] .colab-df-convert:hover {\n",
              "      background-color: #434B5C;\n",
              "      box-shadow: 0px 1px 3px 1px rgba(0, 0, 0, 0.15);\n",
              "      filter: drop-shadow(0px 1px 2px rgba(0, 0, 0, 0.3));\n",
              "      fill: #FFFFFF;\n",
              "    }\n",
              "  </style>\n",
              "\n",
              "      <script>\n",
              "        const buttonEl =\n",
              "          document.querySelector('#df-72df578b-c364-44bc-9027-ec41bb91f6e4 button.colab-df-convert');\n",
              "        buttonEl.style.display =\n",
              "          google.colab.kernel.accessAllowed ? 'block' : 'none';\n",
              "\n",
              "        async function convertToInteractive(key) {\n",
              "          const element = document.querySelector('#df-72df578b-c364-44bc-9027-ec41bb91f6e4');\n",
              "          const dataTable =\n",
              "            await google.colab.kernel.invokeFunction('convertToInteractive',\n",
              "                                                     [key], {});\n",
              "          if (!dataTable) return;\n",
              "\n",
              "          const docLinkHtml = 'Like what you see? Visit the ' +\n",
              "            '<a target=\"_blank\" href=https://colab.research.google.com/notebooks/data_table.ipynb>data table notebook</a>'\n",
              "            + ' to learn more about interactive tables.';\n",
              "          element.innerHTML = '';\n",
              "          dataTable['output_type'] = 'display_data';\n",
              "          await google.colab.output.renderOutput(dataTable, element);\n",
              "          const docLink = document.createElement('div');\n",
              "          docLink.innerHTML = docLinkHtml;\n",
              "          element.appendChild(docLink);\n",
              "        }\n",
              "      </script>\n",
              "    </div>\n",
              "  </div>\n",
              "  "
            ]
          },
          "metadata": {},
          "execution_count": 54
        }
      ]
    },
    {
      "cell_type": "markdown",
      "source": [
        "# Part 2 Regularized Model"
      ],
      "metadata": {
        "id": "x607gkzbsUxj"
      }
    },
    {
      "cell_type": "code",
      "source": [
        "def train_loss_regularized(r,b_users,b_items,irow, jcol,lamb):\n",
        "  Train_Loss=0\n",
        "  for u, j in zip(irow, jcol):\n",
        "    Train_Loss+=np.nansum((r[u][j] - (b_users[u] + b_items[j]))**2)*0.5 + (b_users[u]**2 + b_items[j]**2)*lamb*0.5\n",
        "  return float(Train_Loss[0])\n",
        "\n",
        "def test_loss_regularized(r,b_users,b_items,test_irow, test_jcol,lamb):\n",
        "  Test_Loss=0\n",
        "  for u, j in zip(test_irow, test_jcol):\n",
        "    Test_Loss+=np.nansum((r[u][j] -  (b_users[u] + b_items[j]))**2)*0.5 + (b_users[u]**2 + b_items[j]**2)*lamb*0.5\n",
        "  return float(Test_Loss[0])\n",
        "\n"
      ],
      "metadata": {
        "id": "e1iU1W7TJLL7"
      },
      "execution_count": 24,
      "outputs": []
    },
    {
      "cell_type": "code",
      "source": [
        "import numpy as np\n",
        "\n",
        "\n",
        "\n",
        "\n",
        "def Regularized_SGD(lamb):\n",
        "\n",
        "  b_users=np.random.rand(users,1)\n",
        "  grad_b_users=np.random.rand(users,1)\n",
        "\n",
        "  b_items=np.random.rand(items,1)\n",
        "  grad_b_items=np.random.rand(items,1)\n",
        "\n",
        "  r_pred=np.full((r_copy.shape),np.nan)\n",
        "\n",
        "  alpha=(3)*(10**-2)\n",
        "  Test_Loss_list=[]\n",
        "  Info=False\n",
        "  max_iter=3\n",
        "\n",
        "  for iter in range(max_iter):\n",
        "    for i in range(users):\n",
        "      for j in range(items):\n",
        "        if np.isnan(r_copy[i][j]): # zaten bilmediğim değeri tahmin edemem NANları nasıl tahmin ederim\n",
        "              continue\n",
        "        else:\n",
        "          try:\n",
        "\n",
        "            r_pred[i][j]= b_users[i] + b_items[j]\n",
        "\n",
        "            grad_b_users[i]=-(r_copy[i][j]-r_pred[i][j]) + lamb * b_users[i]\n",
        "            grad_b_items[j]=-(r_copy[i][j]-r_pred[i][j]) + lamb * b_items[j]\n",
        "\n",
        "            b_users_prev=b_users.copy()\n",
        "\n",
        "            b_users[i] = b_users[i]- alpha * grad_b_users[i]\n",
        "            b_items[j] = b_items[j]- alpha * grad_b_items[j]\n",
        "\n",
        "\n",
        "          except ValueError:\n",
        "            print(\"ValueError encountered\")\n",
        "    Train_Loss= train_loss_regularized(r_copy,b_users,b_items,irow, jcol,lamb)\n",
        "    Test_Loss= test_loss_regularized(r_original,b_users,b_items,test_irow, test_jcol,lamb)\n",
        "    Test_Loss_list.append(Test_Loss)\n",
        "    if Info:\n",
        "      if(iter%1 == 0):\n",
        "        print(f\"iteration: ({iter}) , gradient: {(np.linalg.norm(grad_b_users)+np.linalg.norm(grad_b_items)):.3f}, Reg_Train_Loss: {Train_Loss:.3f}, Reg_Test_Loss: {Test_Loss:.3f}\")\n",
        "        \n",
        "  return -min(Test_Loss_list)\n",
        "\n",
        "max_iter=3\n",
        "lamb=0.001\n",
        "\n",
        "Regularized_SGD(lamb)\n",
        "\n",
        "\n",
        "    # return r_pred,b_users, b_items"
      ],
      "metadata": {
        "colab": {
          "base_uri": "https://localhost:8080/",
          "height": 356
        },
        "id": "8xNWcIhUsa9S",
        "outputId": "d0d35f2c-11c0-4501-e0f8-94448ab5b429"
      },
      "execution_count": 80,
      "outputs": [
        {
          "output_type": "error",
          "ename": "KeyboardInterrupt",
          "evalue": "ignored",
          "traceback": [
            "\u001b[0;31m---------------------------------------------------------------------------\u001b[0m",
            "\u001b[0;31mKeyboardInterrupt\u001b[0m                         Traceback (most recent call last)",
            "\u001b[0;32m<ipython-input-80-a538e0bf8435>\u001b[0m in \u001b[0;36m<module>\u001b[0;34m()\u001b[0m\n\u001b[1;32m     52\u001b[0m \u001b[0mlamb\u001b[0m\u001b[0;34m=\u001b[0m\u001b[0;36m0.001\u001b[0m\u001b[0;34m\u001b[0m\u001b[0;34m\u001b[0m\u001b[0m\n\u001b[1;32m     53\u001b[0m \u001b[0;34m\u001b[0m\u001b[0m\n\u001b[0;32m---> 54\u001b[0;31m \u001b[0mRegularized_SGD\u001b[0m\u001b[0;34m(\u001b[0m\u001b[0mlamb\u001b[0m\u001b[0;34m)\u001b[0m\u001b[0;34m\u001b[0m\u001b[0;34m\u001b[0m\u001b[0m\n\u001b[0m\u001b[1;32m     55\u001b[0m \u001b[0;34m\u001b[0m\u001b[0m\n\u001b[1;32m     56\u001b[0m \u001b[0;34m\u001b[0m\u001b[0m\n",
            "\u001b[0;32m<ipython-input-80-a538e0bf8435>\u001b[0m in \u001b[0;36mRegularized_SGD\u001b[0;34m(lamb)\u001b[0m\n\u001b[1;32m     30\u001b[0m \u001b[0;34m\u001b[0m\u001b[0m\n\u001b[1;32m     31\u001b[0m             \u001b[0mgrad_b_users\u001b[0m\u001b[0;34m[\u001b[0m\u001b[0mi\u001b[0m\u001b[0;34m]\u001b[0m\u001b[0;34m=\u001b[0m\u001b[0;34m-\u001b[0m\u001b[0;34m(\u001b[0m\u001b[0mr_copy\u001b[0m\u001b[0;34m[\u001b[0m\u001b[0mi\u001b[0m\u001b[0;34m]\u001b[0m\u001b[0;34m[\u001b[0m\u001b[0mj\u001b[0m\u001b[0;34m]\u001b[0m\u001b[0;34m-\u001b[0m\u001b[0mr_pred\u001b[0m\u001b[0;34m[\u001b[0m\u001b[0mi\u001b[0m\u001b[0;34m]\u001b[0m\u001b[0;34m[\u001b[0m\u001b[0mj\u001b[0m\u001b[0;34m]\u001b[0m\u001b[0;34m)\u001b[0m \u001b[0;34m+\u001b[0m \u001b[0mlamb\u001b[0m \u001b[0;34m*\u001b[0m \u001b[0mb_users\u001b[0m\u001b[0;34m[\u001b[0m\u001b[0mi\u001b[0m\u001b[0;34m]\u001b[0m\u001b[0;34m\u001b[0m\u001b[0;34m\u001b[0m\u001b[0m\n\u001b[0;32m---> 32\u001b[0;31m             \u001b[0mgrad_b_items\u001b[0m\u001b[0;34m[\u001b[0m\u001b[0mj\u001b[0m\u001b[0;34m]\u001b[0m\u001b[0;34m=\u001b[0m\u001b[0;34m-\u001b[0m\u001b[0;34m(\u001b[0m\u001b[0mr_copy\u001b[0m\u001b[0;34m[\u001b[0m\u001b[0mi\u001b[0m\u001b[0;34m]\u001b[0m\u001b[0;34m[\u001b[0m\u001b[0mj\u001b[0m\u001b[0;34m]\u001b[0m\u001b[0;34m-\u001b[0m\u001b[0mr_pred\u001b[0m\u001b[0;34m[\u001b[0m\u001b[0mi\u001b[0m\u001b[0;34m]\u001b[0m\u001b[0;34m[\u001b[0m\u001b[0mj\u001b[0m\u001b[0;34m]\u001b[0m\u001b[0;34m)\u001b[0m \u001b[0;34m+\u001b[0m \u001b[0mlamb\u001b[0m \u001b[0;34m*\u001b[0m \u001b[0mb_items\u001b[0m\u001b[0;34m[\u001b[0m\u001b[0mj\u001b[0m\u001b[0;34m]\u001b[0m\u001b[0;34m\u001b[0m\u001b[0;34m\u001b[0m\u001b[0m\n\u001b[0m\u001b[1;32m     33\u001b[0m \u001b[0;34m\u001b[0m\u001b[0m\n\u001b[1;32m     34\u001b[0m             \u001b[0mb_users_prev\u001b[0m\u001b[0;34m=\u001b[0m\u001b[0mb_users\u001b[0m\u001b[0;34m.\u001b[0m\u001b[0mcopy\u001b[0m\u001b[0;34m(\u001b[0m\u001b[0;34m)\u001b[0m\u001b[0;34m\u001b[0m\u001b[0;34m\u001b[0m\u001b[0m\n",
            "\u001b[0;31mKeyboardInterrupt\u001b[0m: "
          ]
        }
      ]
    },
    {
      "cell_type": "markdown",
      "source": [
        "# Part 2 HyperParam Opt"
      ],
      "metadata": {
        "id": "Hvz9OicCSBIf"
      }
    },
    {
      "cell_type": "code",
      "source": [
        "!pip install bayesian-optimization"
      ],
      "metadata": {
        "colab": {
          "base_uri": "https://localhost:8080/"
        },
        "id": "cuATXemtSPdF",
        "outputId": "3d4bd863-95e6-406a-b5f2-42bc8119d155"
      },
      "execution_count": 59,
      "outputs": [
        {
          "output_type": "stream",
          "name": "stdout",
          "text": [
            "Collecting bayesian-optimization\n",
            "  Downloading bayesian-optimization-1.2.0.tar.gz (14 kB)\n",
            "Requirement already satisfied: numpy>=1.9.0 in /usr/local/lib/python3.7/dist-packages (from bayesian-optimization) (1.21.5)\n",
            "Requirement already satisfied: scipy>=0.14.0 in /usr/local/lib/python3.7/dist-packages (from bayesian-optimization) (1.4.1)\n",
            "Requirement already satisfied: scikit-learn>=0.18.0 in /usr/local/lib/python3.7/dist-packages (from bayesian-optimization) (1.0.2)\n",
            "Requirement already satisfied: joblib>=0.11 in /usr/local/lib/python3.7/dist-packages (from scikit-learn>=0.18.0->bayesian-optimization) (1.1.0)\n",
            "Requirement already satisfied: threadpoolctl>=2.0.0 in /usr/local/lib/python3.7/dist-packages (from scikit-learn>=0.18.0->bayesian-optimization) (3.1.0)\n",
            "Building wheels for collected packages: bayesian-optimization\n",
            "  Building wheel for bayesian-optimization (setup.py) ... \u001b[?25l\u001b[?25hdone\n",
            "  Created wheel for bayesian-optimization: filename=bayesian_optimization-1.2.0-py3-none-any.whl size=11685 sha256=0314cf812c5489f3dbfba1b29c34f575d30512fb6d30dd8e8cf5f0cc041acfee\n",
            "  Stored in directory: /root/.cache/pip/wheels/fd/9b/71/f127d694e02eb40bcf18c7ae9613b88a6be4470f57a8528c5b\n",
            "Successfully built bayesian-optimization\n",
            "Installing collected packages: bayesian-optimization\n",
            "Successfully installed bayesian-optimization-1.2.0\n"
          ]
        }
      ]
    },
    {
      "cell_type": "code",
      "source": [
        "\n",
        "#Regularized_SGD(max_iter,lamb,Info=False)\n",
        "\n",
        "from bayes_opt import BayesianOptimization\n",
        "\n",
        "# Bounded region of parameter space\n",
        "pbounds = {'lamb': (0.00005,0.1)}\n",
        "\n",
        "optimizer = BayesianOptimization(\n",
        "    f=Regularized_SGD,\n",
        "    pbounds=pbounds,\n",
        "    random_state=1,\n",
        ")"
      ],
      "metadata": {
        "id": "9bldm-jnSXS0"
      },
      "execution_count": 97,
      "outputs": []
    },
    {
      "cell_type": "code",
      "source": [
        "optimizer.maximize(\n",
        "    init_points=0.0001,\n",
        "    n_iter=10,\n",
        ")"
      ],
      "metadata": {
        "colab": {
          "base_uri": "https://localhost:8080/"
        },
        "id": "ecAQHSanWfUr",
        "outputId": "4cebdb30-a0d0-495e-e4b6-1266a07b4cd9"
      },
      "execution_count": 98,
      "outputs": [
        {
          "output_type": "stream",
          "name": "stdout",
          "text": [
            "|   iter    |  target   |   lamb    |\n",
            "-------------------------------------\n",
            "| \u001b[0m 1       \u001b[0m | \u001b[0m-1.21e+04\u001b[0m | \u001b[0m 0.04173 \u001b[0m |\n",
            "| \u001b[0m 2       \u001b[0m | \u001b[0m-1.56e+04\u001b[0m | \u001b[0m 0.1     \u001b[0m |\n",
            "| \u001b[95m 3       \u001b[0m | \u001b[95m-1.209e+0\u001b[0m | \u001b[95m 0.04174 \u001b[0m |\n",
            "| \u001b[0m 4       \u001b[0m | \u001b[0m-1.268e+0\u001b[0m | \u001b[0m 0.05158 \u001b[0m |\n",
            "| \u001b[95m 5       \u001b[0m | \u001b[95m-9.464e+0\u001b[0m | \u001b[95m 5e-05   \u001b[0m |\n",
            "| \u001b[0m 6       \u001b[0m | \u001b[0m-9.818e+0\u001b[0m | \u001b[0m 0.005787\u001b[0m |\n",
            "| \u001b[0m 7       \u001b[0m | \u001b[0m-9.818e+0\u001b[0m | \u001b[0m 0.005787\u001b[0m |\n",
            "| \u001b[0m 8       \u001b[0m | \u001b[0m-9.818e+0\u001b[0m | \u001b[0m 0.005787\u001b[0m |\n",
            "| \u001b[0m 9       \u001b[0m | \u001b[0m-9.818e+0\u001b[0m | \u001b[0m 0.005787\u001b[0m |\n",
            "| \u001b[0m 10      \u001b[0m | \u001b[0m-9.818e+0\u001b[0m | \u001b[0m 0.005787\u001b[0m |\n",
            "| \u001b[0m 11      \u001b[0m | \u001b[0m-9.818e+0\u001b[0m | \u001b[0m 0.005787\u001b[0m |\n",
            "=====================================\n"
          ]
        }
      ]
    },
    {
      "cell_type": "code",
      "source": [
        "print(f\"Best lambda value: {optimizer.max['params']['lamb']:.5f}\\nRegular_Test_Loss: {-optimizer.max['target']:.5f}\")\n"
      ],
      "metadata": {
        "colab": {
          "base_uri": "https://localhost:8080/"
        },
        "id": "wo_3qfqJYKbu",
        "outputId": "ff019573-c575-4146-9714-e1ad76305228"
      },
      "execution_count": 116,
      "outputs": [
        {
          "output_type": "stream",
          "name": "stdout",
          "text": [
            "Best lambda value: 0.00005\n",
            "Regular_Test_Loss: 9464.40593\n"
          ]
        }
      ]
    }
  ]
}
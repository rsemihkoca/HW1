{
  "cells": [
    {
      "cell_type": "markdown",
      "metadata": {
        "id": "view-in-github",
        "colab_type": "text"
      },
      "source": [
        "<a href=\"https://colab.research.google.com/github/rsemihkoca/YouDo-ds-bc/blob/main/YouDo_2.ipynb\" target=\"_parent\"><img src=\"https://colab.research.google.com/assets/colab-badge.svg\" alt=\"Open In Colab\"/></a>"
      ]
    },
    {
      "cell_type": "code",
      "execution_count": null,
      "metadata": {
        "colab": {
          "base_uri": "https://localhost:8080/"
        },
        "id": "k2XWpPyCGjs_",
        "outputId": "7b33ac5b-cba2-40ac-d34e-ee6cd83d5fb2"
      },
      "outputs": [
        {
          "output_type": "execute_result",
          "data": {
            "text/plain": [
              "(array([5.]), array([0.]), 0.0)"
            ]
          },
          "metadata": {},
          "execution_count": 2
        }
      ],
      "source": [
        "import numpy as np\n",
        "\n",
        "\n",
        "class UserBased:\n",
        "    mu: np.ndarray\n",
        "    sim: np.ndarray\n",
        "\n",
        "    def __init__(self, zero_mean: bool = True, beta: int = 1, idf: bool = False, verbosity: int = 0):\n",
        "\n",
        "        self.zero_mean = zero_mean\n",
        "        self.beta = beta\n",
        "        self.idf = idf\n",
        "        self.verbosity = verbosity\n",
        "\n",
        "    def fit(self, r: np.ndarray):\n",
        "        m, n = r.shape\n",
        "        if self.zero_mean:\n",
        "            self.mu = np.nanmean(r, axis=1)\n",
        "        else:\n",
        "            self.mu = np.zeros(m)\n",
        "\n",
        "        self.sim = np.zeros((m, m))\n",
        "\n",
        "        if self.idf:\n",
        "            idf = np.log(1 + m / (~np.isnan(r)).sum(axis=0))\n",
        "        else:\n",
        "            idf = np.ones(n)\n",
        "\n",
        "        if self.verbosity > 0:\n",
        "            print(idf)\n",
        "\n",
        "        for i in range(m):\n",
        "            for j in range(m):\n",
        "                mask = ~np.isnan(r[i, :]) & ~np.isnan(r[j, :])\n",
        "\n",
        "                si = r[i, mask] - self.mu[i]\n",
        "                sj = r[j, mask] - self.mu[j]\n",
        "\n",
        "                self.sim[i][j] = (si * sj * idf[mask]).sum() / (\n",
        "                        np.sqrt((idf[mask] * (si ** 2)).sum()) * np.sqrt((idf[mask] * (sj ** 2)).sum()))\n",
        "\n",
        "                total_intersection = mask.sum()\n",
        "\n",
        "                self.sim[i][j] *= min(total_intersection, self.beta) / self.beta\n",
        "\n",
        "        return self.sim\n",
        "\n",
        "    def predict_single_rate(self, r: np.array, u: int, j: int, top_k: int = 3) -> float:\n",
        "        _, n = r.shape\n",
        "\n",
        "        users_rated_j = np.nonzero(~np.isnan(r[:, j]))[0]\n",
        "\n",
        "        topk_users = users_rated_j[self.sim[u, users_rated_j].argsort()[::-1][:top_k]]\n",
        "\n",
        "        mean_centered_topk_user_rate = r[topk_users, j] - self.mu[topk_users]\n",
        "        Rvj=r[topk_users, j] # topk k similar userin j itemine vermiş oldukları rating vectoru\n",
        "        # w = self.sim[u, topk_users]\n",
        "        Mv=self.mu[topk_users]\n",
        "        # return np.dot(mean_centered_topk_user_rate, w) / np.abs(w).sum() + self.mu[u]\n",
        "        Mu=self.mu[u]\n",
        "\n",
        "        return Rvj,Mv,Mu # (rvj-mv) ve mv\n",
        "\n",
        "   \n",
        "import numpy as np\n",
        "\n",
        "\n",
        "r = np.array([[7, 6, 7, 4, 5, 4,6],\n",
        "              [6, 7, np.nan, 4, 3, 4,7],\n",
        "              [np.nan, 3, 3, 1, 1, np.nan,3],\n",
        "              [1, 2, 3, 3, 3, 4,2],\n",
        "              [1, np.nan, 1, 2, 3, 3,3],\n",
        "              [1, 5, 1, 2, 3, 3,5]])\n",
        "\n",
        "u=4 # 5. user \n",
        "j=1 # 2. item nan values\n",
        "UserBased_model = UserBased(zero_mean=False, beta=1, idf=False)\n",
        "\n",
        "sim = UserBased_model.fit(r)\n",
        "\n",
        "r_userbased=UserBased_model.predict_single_rate(r,u,j, top_k=1)\n",
        "r_userbased"
      ]
    },
    {
      "cell_type": "code",
      "execution_count": null,
      "metadata": {
        "colab": {
          "base_uri": "https://localhost:8080/"
        },
        "id": "OngmyBa0Vsly",
        "outputId": "214422b9-eaa3-49cf-aeab-c6f58fff5509"
      },
      "outputs": [
        {
          "output_type": "execute_result",
          "data": {
            "text/plain": [
              "1"
            ]
          },
          "metadata": {},
          "execution_count": 3
        }
      ],
      "source": [
        "j,u=u,j\n",
        "u"
      ]
    },
    {
      "cell_type": "code",
      "execution_count": null,
      "metadata": {
        "colab": {
          "base_uri": "https://localhost:8080/"
        },
        "id": "suGTfwCnVrjr",
        "outputId": "0519f99d-cc9c-42c1-d63e-6d728afd60ad"
      },
      "outputs": [
        {
          "output_type": "execute_result",
          "data": {
            "text/plain": [
              "(array([3.]), array([0.]), 0.0)"
            ]
          },
          "metadata": {},
          "execution_count": 4
        }
      ],
      "source": [
        "# u=1  2. item \n",
        "# j=4  5. user nan values\n",
        "ItemBased_model = UserBased(zero_mean=False, beta=1, idf=False)\n",
        "\n",
        "sim = ItemBased_model.fit(r.T)\n",
        "\n",
        "r_itembased=ItemBased_model.predict_single_rate(r.T,u,j, top_k=1)\n",
        "\n",
        "\n",
        "r_itembased\n",
        "        \n",
        "        "
      ]
    },
    {
      "cell_type": "code",
      "execution_count": null,
      "metadata": {
        "colab": {
          "base_uri": "https://localhost:8080/"
        },
        "id": "7gi08xx6bEtA",
        "outputId": "85dc2f4c-faa8-4f90-da24-609281ab26b0"
      },
      "outputs": [
        {
          "output_type": "execute_result",
          "data": {
            "text/plain": [
              "array([4])"
            ]
          },
          "metadata": {},
          "execution_count": 5
        }
      ],
      "source": [
        "top_k=1\n",
        "a=np.array([0,1,2,3,4])\n",
        "a_new=a[::-1][:top_k]\n",
        "a_new"
      ]
    },
    {
      "cell_type": "code",
      "execution_count": null,
      "metadata": {
        "colab": {
          "base_uri": "https://localhost:8080/"
        },
        "id": "hKblYSwkWXS2",
        "outputId": "56dff7c2-8cb6-4908-baa4-6fc35c54977a"
      },
      "outputs": [
        {
          "output_type": "execute_result",
          "data": {
            "text/plain": [
              "array([[nan, nan, nan, nan, nan, nan, nan],\n",
              "       [nan, nan, nan, nan, nan, nan, nan],\n",
              "       [nan, nan, nan, nan, nan, nan, nan],\n",
              "       [nan, nan, nan, nan, nan, nan, nan],\n",
              "       [nan, nan, nan, nan, nan, nan, nan],\n",
              "       [nan, nan, nan, nan, nan, nan, nan]])"
            ]
          },
          "metadata": {},
          "execution_count": 37
        }
      ],
      "source": [
        "import pandas as pd\n",
        "r = pd.DataFrame([[7, 6, 7, 4, 5, 4,6],\n",
        "              [6, 7, np.nan, 4, 3, 4,7],\n",
        "              [np.nan, 3, 3, 1, 1, np.nan,3],\n",
        "              [1, 2, 3, 3, 3, 4,2],\n",
        "              [1, np.nan, 1, 2, 3, 3,3],\n",
        "              [1, 5, 1, 2, 3, 3,5]])\n",
        "r.index =['User_0','User_1', 'User_2', 'User_3', 'User_4','User_4_cpy']\n",
        "r.columns =['Item_0','Item_1', 'Item_2', 'Item_3', 'Item_4', 'Item_5','Item_1_cpy']\n",
        "r,r.T\n",
        "# r_pred=np.full((r.shape),np.nan)\n",
        "# r_pred"
      ]
    },
    {
      "cell_type": "code",
      "execution_count": null,
      "metadata": {
        "colab": {
          "base_uri": "https://localhost:8080/",
          "height": 293
        },
        "id": "-2gRWXsfi_GX",
        "outputId": "23e40ac0-a838-427c-af39-16f6828860ae"
      },
      "outputs": [
        {
          "output_type": "error",
          "ename": "TypeError",
          "evalue": "ignored",
          "traceback": [
            "\u001b[0;31m---------------------------------------------------------------------------\u001b[0m",
            "\u001b[0;31mTypeError\u001b[0m                                 Traceback (most recent call last)",
            "\u001b[0;32m<ipython-input-7-bd20ae1a5ed6>\u001b[0m in \u001b[0;36m<module>\u001b[0;34m()\u001b[0m\n\u001b[1;32m      9\u001b[0m \u001b[0;34m\u001b[0m\u001b[0m\n\u001b[1;32m     10\u001b[0m \u001b[0mUserBased_model\u001b[0m \u001b[0;34m=\u001b[0m \u001b[0mUserBased\u001b[0m\u001b[0;34m(\u001b[0m\u001b[0mzero_mean\u001b[0m\u001b[0;34m=\u001b[0m\u001b[0;32mTrue\u001b[0m\u001b[0;34m,\u001b[0m \u001b[0mbeta\u001b[0m\u001b[0;34m=\u001b[0m\u001b[0;36m1\u001b[0m\u001b[0;34m,\u001b[0m \u001b[0midf\u001b[0m\u001b[0;34m=\u001b[0m\u001b[0;32mFalse\u001b[0m\u001b[0;34m)\u001b[0m\u001b[0;34m\u001b[0m\u001b[0;34m\u001b[0m\u001b[0m\n\u001b[0;32m---> 11\u001b[0;31m \u001b[0msim\u001b[0m \u001b[0;34m=\u001b[0m \u001b[0mUserBased_model\u001b[0m\u001b[0;34m.\u001b[0m\u001b[0mfit\u001b[0m\u001b[0;34m(\u001b[0m\u001b[0mr\u001b[0m\u001b[0;34m)\u001b[0m\u001b[0;34m\u001b[0m\u001b[0;34m\u001b[0m\u001b[0m\n\u001b[0m\u001b[1;32m     12\u001b[0m \u001b[0;34m\u001b[0m\u001b[0m\n\u001b[1;32m     13\u001b[0m \u001b[0mRvj\u001b[0m\u001b[0;34m,\u001b[0m\u001b[0mMv\u001b[0m\u001b[0;34m,\u001b[0m\u001b[0mMu\u001b[0m\u001b[0;34m=\u001b[0m\u001b[0mUserBased_model\u001b[0m\u001b[0;34m.\u001b[0m\u001b[0mpredict_single_rate\u001b[0m\u001b[0;34m(\u001b[0m\u001b[0mr\u001b[0m\u001b[0;34m,\u001b[0m\u001b[0mu\u001b[0m\u001b[0;34m,\u001b[0m\u001b[0mj\u001b[0m\u001b[0;34m,\u001b[0m \u001b[0mtop_k\u001b[0m\u001b[0;34m=\u001b[0m\u001b[0;36m3\u001b[0m\u001b[0;34m)\u001b[0m\u001b[0;34m\u001b[0m\u001b[0;34m\u001b[0m\u001b[0m\n",
            "\u001b[0;32m<ipython-input-2-4c6159d3cfac>\u001b[0m in \u001b[0;36mfit\u001b[0;34m(self, r)\u001b[0m\n\u001b[1;32m     32\u001b[0m         \u001b[0;32mfor\u001b[0m \u001b[0mi\u001b[0m \u001b[0;32min\u001b[0m \u001b[0mrange\u001b[0m\u001b[0;34m(\u001b[0m\u001b[0mm\u001b[0m\u001b[0;34m)\u001b[0m\u001b[0;34m:\u001b[0m\u001b[0;34m\u001b[0m\u001b[0;34m\u001b[0m\u001b[0m\n\u001b[1;32m     33\u001b[0m             \u001b[0;32mfor\u001b[0m \u001b[0mj\u001b[0m \u001b[0;32min\u001b[0m \u001b[0mrange\u001b[0m\u001b[0;34m(\u001b[0m\u001b[0mm\u001b[0m\u001b[0;34m)\u001b[0m\u001b[0;34m:\u001b[0m\u001b[0;34m\u001b[0m\u001b[0;34m\u001b[0m\u001b[0m\n\u001b[0;32m---> 34\u001b[0;31m                 \u001b[0mmask\u001b[0m \u001b[0;34m=\u001b[0m \u001b[0;34m~\u001b[0m\u001b[0mnp\u001b[0m\u001b[0;34m.\u001b[0m\u001b[0misnan\u001b[0m\u001b[0;34m(\u001b[0m\u001b[0mr\u001b[0m\u001b[0;34m[\u001b[0m\u001b[0mi\u001b[0m\u001b[0;34m,\u001b[0m \u001b[0;34m:\u001b[0m\u001b[0;34m]\u001b[0m\u001b[0;34m)\u001b[0m \u001b[0;34m&\u001b[0m \u001b[0;34m~\u001b[0m\u001b[0mnp\u001b[0m\u001b[0;34m.\u001b[0m\u001b[0misnan\u001b[0m\u001b[0;34m(\u001b[0m\u001b[0mr\u001b[0m\u001b[0;34m[\u001b[0m\u001b[0mj\u001b[0m\u001b[0;34m,\u001b[0m \u001b[0;34m:\u001b[0m\u001b[0;34m]\u001b[0m\u001b[0;34m)\u001b[0m\u001b[0;34m\u001b[0m\u001b[0;34m\u001b[0m\u001b[0m\n\u001b[0m\u001b[1;32m     35\u001b[0m \u001b[0;34m\u001b[0m\u001b[0m\n\u001b[1;32m     36\u001b[0m                 \u001b[0msi\u001b[0m \u001b[0;34m=\u001b[0m \u001b[0mr\u001b[0m\u001b[0;34m[\u001b[0m\u001b[0mi\u001b[0m\u001b[0;34m,\u001b[0m \u001b[0mmask\u001b[0m\u001b[0;34m]\u001b[0m \u001b[0;34m-\u001b[0m \u001b[0mself\u001b[0m\u001b[0;34m.\u001b[0m\u001b[0mmu\u001b[0m\u001b[0;34m[\u001b[0m\u001b[0mi\u001b[0m\u001b[0;34m]\u001b[0m\u001b[0;34m\u001b[0m\u001b[0;34m\u001b[0m\u001b[0m\n",
            "\u001b[0;32m/usr/local/lib/python3.7/dist-packages/pandas/core/frame.py\u001b[0m in \u001b[0;36m__getitem__\u001b[0;34m(self, key)\u001b[0m\n\u001b[1;32m   3456\u001b[0m             \u001b[0;32mif\u001b[0m \u001b[0mself\u001b[0m\u001b[0;34m.\u001b[0m\u001b[0mcolumns\u001b[0m\u001b[0;34m.\u001b[0m\u001b[0mnlevels\u001b[0m \u001b[0;34m>\u001b[0m \u001b[0;36m1\u001b[0m\u001b[0;34m:\u001b[0m\u001b[0;34m\u001b[0m\u001b[0;34m\u001b[0m\u001b[0m\n\u001b[1;32m   3457\u001b[0m                 \u001b[0;32mreturn\u001b[0m \u001b[0mself\u001b[0m\u001b[0;34m.\u001b[0m\u001b[0m_getitem_multilevel\u001b[0m\u001b[0;34m(\u001b[0m\u001b[0mkey\u001b[0m\u001b[0;34m)\u001b[0m\u001b[0;34m\u001b[0m\u001b[0;34m\u001b[0m\u001b[0m\n\u001b[0;32m-> 3458\u001b[0;31m             \u001b[0mindexer\u001b[0m \u001b[0;34m=\u001b[0m \u001b[0mself\u001b[0m\u001b[0;34m.\u001b[0m\u001b[0mcolumns\u001b[0m\u001b[0;34m.\u001b[0m\u001b[0mget_loc\u001b[0m\u001b[0;34m(\u001b[0m\u001b[0mkey\u001b[0m\u001b[0;34m)\u001b[0m\u001b[0;34m\u001b[0m\u001b[0;34m\u001b[0m\u001b[0m\n\u001b[0m\u001b[1;32m   3459\u001b[0m             \u001b[0;32mif\u001b[0m \u001b[0mis_integer\u001b[0m\u001b[0;34m(\u001b[0m\u001b[0mindexer\u001b[0m\u001b[0;34m)\u001b[0m\u001b[0;34m:\u001b[0m\u001b[0;34m\u001b[0m\u001b[0;34m\u001b[0m\u001b[0m\n\u001b[1;32m   3460\u001b[0m                 \u001b[0mindexer\u001b[0m \u001b[0;34m=\u001b[0m \u001b[0;34m[\u001b[0m\u001b[0mindexer\u001b[0m\u001b[0;34m]\u001b[0m\u001b[0;34m\u001b[0m\u001b[0;34m\u001b[0m\u001b[0m\n",
            "\u001b[0;32m/usr/local/lib/python3.7/dist-packages/pandas/core/indexes/base.py\u001b[0m in \u001b[0;36mget_loc\u001b[0;34m(self, key, method, tolerance)\u001b[0m\n\u001b[1;32m   3359\u001b[0m             \u001b[0mcasted_key\u001b[0m \u001b[0;34m=\u001b[0m \u001b[0mself\u001b[0m\u001b[0;34m.\u001b[0m\u001b[0m_maybe_cast_indexer\u001b[0m\u001b[0;34m(\u001b[0m\u001b[0mkey\u001b[0m\u001b[0;34m)\u001b[0m\u001b[0;34m\u001b[0m\u001b[0;34m\u001b[0m\u001b[0m\n\u001b[1;32m   3360\u001b[0m             \u001b[0;32mtry\u001b[0m\u001b[0;34m:\u001b[0m\u001b[0;34m\u001b[0m\u001b[0;34m\u001b[0m\u001b[0m\n\u001b[0;32m-> 3361\u001b[0;31m                 \u001b[0;32mreturn\u001b[0m \u001b[0mself\u001b[0m\u001b[0;34m.\u001b[0m\u001b[0m_engine\u001b[0m\u001b[0;34m.\u001b[0m\u001b[0mget_loc\u001b[0m\u001b[0;34m(\u001b[0m\u001b[0mcasted_key\u001b[0m\u001b[0;34m)\u001b[0m\u001b[0;34m\u001b[0m\u001b[0;34m\u001b[0m\u001b[0m\n\u001b[0m\u001b[1;32m   3362\u001b[0m             \u001b[0;32mexcept\u001b[0m \u001b[0mKeyError\u001b[0m \u001b[0;32mas\u001b[0m \u001b[0merr\u001b[0m\u001b[0;34m:\u001b[0m\u001b[0;34m\u001b[0m\u001b[0;34m\u001b[0m\u001b[0m\n\u001b[1;32m   3363\u001b[0m                 \u001b[0;32mraise\u001b[0m \u001b[0mKeyError\u001b[0m\u001b[0;34m(\u001b[0m\u001b[0mkey\u001b[0m\u001b[0;34m)\u001b[0m \u001b[0;32mfrom\u001b[0m \u001b[0merr\u001b[0m\u001b[0;34m\u001b[0m\u001b[0;34m\u001b[0m\u001b[0m\n",
            "\u001b[0;32m/usr/local/lib/python3.7/dist-packages/pandas/_libs/index.pyx\u001b[0m in \u001b[0;36mpandas._libs.index.IndexEngine.get_loc\u001b[0;34m()\u001b[0m\n",
            "\u001b[0;32m/usr/local/lib/python3.7/dist-packages/pandas/_libs/index.pyx\u001b[0m in \u001b[0;36mpandas._libs.index.IndexEngine.get_loc\u001b[0;34m()\u001b[0m\n",
            "\u001b[0;31mTypeError\u001b[0m: '(0, slice(None, None, None))' is an invalid key"
          ]
        }
      ],
      "source": [
        "users,items=r.shape\n",
        "u=4 # 5. user \n",
        "j=1 # 2. item nan values\n",
        "\n",
        "top_k=3\n",
        "w_users=np.random.rand(1,top_k)\n",
        "# w_items=np.random.rand(1,top_k)\n",
        "# w_items\n",
        "\n",
        "UserBased_model = UserBased(zero_mean=True, beta=1, idf=False)\n",
        "sim = UserBased_model.fit(r)\n",
        "\n",
        "Rvj,Mv,Mu=UserBased_model.predict_single_rate(r,u,j, top_k=3)\n",
        "Rvj,Mv,Mu\n",
        "w_users\n",
        "np.dot(w_users,Rvj-Mv)\n",
        "\n",
        "r_pred= Mu + np.dot(w_users,Rvj-Mv)\n",
        "r_pred"
      ]
    },
    {
      "cell_type": "code",
      "execution_count": null,
      "metadata": {
        "colab": {
          "base_uri": "https://localhost:8080/",
          "height": 606
        },
        "id": "uLpWJ5stkPlq",
        "outputId": "bead3623-06f6-4a99-d171-bf67e1157a08"
      },
      "outputs": [
        {
          "output_type": "stream",
          "name": "stdout",
          "text": [
            "iteration: (0) , gradient: nan, loss=nan, Total error: 2231.402\n",
            "iteration: (10) , gradient: nan, loss=nan, Total error: 0.000\n",
            "iteration: (20) , gradient: nan, loss=nan, Total error: 0.000\n",
            "iteration: (30) , gradient: nan, loss=nan, Total error: 0.000\n",
            "iteration: (40) , gradient: nan, loss=nan, Total error: 0.000\n",
            "iteration: (50) , gradient: nan, loss=nan, Total error: 0.000\n",
            "iteration: (60) , gradient: nan, loss=nan, Total error: 0.000\n",
            "iteration: (70) , gradient: nan, loss=nan, Total error: 0.000\n",
            "iteration: (80) , gradient: nan, loss=nan, Total error: 0.000\n",
            "iteration: (90) , gradient: nan, loss=nan, Total error: 0.000\n",
            "iteration: (100) , gradient: nan, loss=nan, Total error: 0.000\n",
            "iteration: (110) , gradient: nan, loss=nan, Total error: 0.000\n",
            "iteration: (120) , gradient: nan, loss=nan, Total error: 0.000\n"
          ]
        },
        {
          "output_type": "error",
          "ename": "KeyboardInterrupt",
          "evalue": "ignored",
          "traceback": [
            "\u001b[0;31m---------------------------------------------------------------------------\u001b[0m",
            "\u001b[0;31mKeyboardInterrupt\u001b[0m                         Traceback (most recent call last)",
            "\u001b[0;32m<ipython-input-92-75ff0f2002b0>\u001b[0m in \u001b[0;36m<module>\u001b[0;34m()\u001b[0m\n\u001b[1;32m     72\u001b[0m \u001b[0mzero_mean\u001b[0m\u001b[0;34m=\u001b[0m\u001b[0;32mTrue\u001b[0m\u001b[0;34m\u001b[0m\u001b[0;34m\u001b[0m\u001b[0m\n\u001b[1;32m     73\u001b[0m \u001b[0mlamb\u001b[0m\u001b[0;34m=\u001b[0m\u001b[0;36m1\u001b[0m\u001b[0;34m\u001b[0m\u001b[0;34m\u001b[0m\u001b[0m\n\u001b[0;32m---> 74\u001b[0;31m \u001b[0mr_pred\u001b[0m\u001b[0;34m=\u001b[0m\u001b[0mCombined_SGD\u001b[0m\u001b[0;34m(\u001b[0m\u001b[0mr\u001b[0m\u001b[0;34m,\u001b[0m\u001b[0mtop_k\u001b[0m\u001b[0;34m,\u001b[0m\u001b[0mbeta\u001b[0m\u001b[0;34m,\u001b[0m\u001b[0mzero_mean\u001b[0m\u001b[0;34m,\u001b[0m\u001b[0mlamb\u001b[0m\u001b[0;34m,\u001b[0m\u001b[0malpha\u001b[0m\u001b[0;34m,\u001b[0m\u001b[0mmax_iter\u001b[0m\u001b[0;34m)\u001b[0m\u001b[0;34m\u001b[0m\u001b[0;34m\u001b[0m\u001b[0m\n\u001b[0m\u001b[1;32m     75\u001b[0m \u001b[0mnp\u001b[0m\u001b[0;34m.\u001b[0m\u001b[0mset_printoptions\u001b[0m\u001b[0;34m(\u001b[0m\u001b[0mprecision\u001b[0m\u001b[0;34m=\u001b[0m\u001b[0;36m0\u001b[0m\u001b[0;34m,\u001b[0m \u001b[0msuppress\u001b[0m\u001b[0;34m=\u001b[0m\u001b[0;32mTrue\u001b[0m\u001b[0;34m)\u001b[0m\u001b[0;34m\u001b[0m\u001b[0;34m\u001b[0m\u001b[0m\n\u001b[1;32m     76\u001b[0m \u001b[0mprint\u001b[0m\u001b[0;34m(\u001b[0m\u001b[0mr_pred\u001b[0m\u001b[0;34m)\u001b[0m\u001b[0;34m\u001b[0m\u001b[0;34m\u001b[0m\u001b[0m\n",
            "\u001b[0;32m<ipython-input-92-75ff0f2002b0>\u001b[0m in \u001b[0;36mCombined_SGD\u001b[0;34m(r, top_k, beta, zero_mean, lamb, alpha, max_iter)\u001b[0m\n\u001b[1;32m     40\u001b[0m \u001b[0;34m\u001b[0m\u001b[0m\n\u001b[1;32m     41\u001b[0m           \u001b[0mRvj\u001b[0m\u001b[0;34m,\u001b[0m\u001b[0mMv\u001b[0m\u001b[0;34m,\u001b[0m\u001b[0mMu\u001b[0m\u001b[0;34m=\u001b[0m\u001b[0mUser_based_model\u001b[0m\u001b[0;34m(\u001b[0m\u001b[0mr\u001b[0m\u001b[0;34m,\u001b[0m\u001b[0mu\u001b[0m\u001b[0;34m,\u001b[0m\u001b[0mj\u001b[0m\u001b[0;34m,\u001b[0m\u001b[0mtop_k\u001b[0m\u001b[0;34m,\u001b[0m\u001b[0mzero_mean\u001b[0m\u001b[0;34m=\u001b[0m\u001b[0;32mTrue\u001b[0m\u001b[0;34m,\u001b[0m\u001b[0mbeta\u001b[0m\u001b[0;34m=\u001b[0m\u001b[0;36m1\u001b[0m\u001b[0;34m,\u001b[0m\u001b[0midf\u001b[0m\u001b[0;34m=\u001b[0m\u001b[0;32mFalse\u001b[0m\u001b[0;34m)\u001b[0m\u001b[0;34m\u001b[0m\u001b[0;34m\u001b[0m\u001b[0m\n\u001b[0;32m---> 42\u001b[0;31m           \u001b[0mRut\u001b[0m\u001b[0;34m,\u001b[0m\u001b[0mMj\u001b[0m\u001b[0;34m,\u001b[0m\u001b[0mMu\u001b[0m\u001b[0;34m=\u001b[0m\u001b[0mItem_based_model\u001b[0m\u001b[0;34m(\u001b[0m\u001b[0mr\u001b[0m\u001b[0;34m,\u001b[0m\u001b[0mu\u001b[0m\u001b[0;34m,\u001b[0m\u001b[0mj\u001b[0m\u001b[0;34m,\u001b[0m\u001b[0mtop_k\u001b[0m\u001b[0;34m,\u001b[0m\u001b[0mzero_mean\u001b[0m\u001b[0;34m=\u001b[0m\u001b[0;32mTrue\u001b[0m\u001b[0;34m,\u001b[0m\u001b[0mbeta\u001b[0m\u001b[0;34m=\u001b[0m\u001b[0;36m1\u001b[0m\u001b[0;34m,\u001b[0m\u001b[0midf\u001b[0m\u001b[0;34m=\u001b[0m\u001b[0;32mFalse\u001b[0m\u001b[0;34m)\u001b[0m\u001b[0;34m\u001b[0m\u001b[0;34m\u001b[0m\u001b[0m\n\u001b[0m\u001b[1;32m     43\u001b[0m \u001b[0;34m\u001b[0m\u001b[0m\n\u001b[1;32m     44\u001b[0m           \u001b[0mr_pred\u001b[0m\u001b[0;34m[\u001b[0m\u001b[0mu\u001b[0m\u001b[0;34m]\u001b[0m\u001b[0;34m[\u001b[0m\u001b[0mj\u001b[0m\u001b[0;34m]\u001b[0m\u001b[0;34m=\u001b[0m \u001b[0mMu\u001b[0m \u001b[0;34m+\u001b[0m \u001b[0mnp\u001b[0m\u001b[0;34m.\u001b[0m\u001b[0mdot\u001b[0m\u001b[0;34m(\u001b[0m\u001b[0mw_users\u001b[0m\u001b[0;34m[\u001b[0m\u001b[0mu\u001b[0m\u001b[0;34m,\u001b[0m\u001b[0;34m:\u001b[0m\u001b[0;34m]\u001b[0m\u001b[0;34m,\u001b[0m\u001b[0mRvj\u001b[0m\u001b[0;34m-\u001b[0m\u001b[0mMv\u001b[0m\u001b[0;34m)\u001b[0m \u001b[0;34m+\u001b[0m \u001b[0mnp\u001b[0m\u001b[0;34m.\u001b[0m\u001b[0mdot\u001b[0m\u001b[0;34m(\u001b[0m\u001b[0mw_items\u001b[0m\u001b[0;34m[\u001b[0m\u001b[0;34m:\u001b[0m\u001b[0;34m,\u001b[0m\u001b[0mj\u001b[0m\u001b[0;34m]\u001b[0m\u001b[0;34m,\u001b[0m\u001b[0mRut\u001b[0m\u001b[0;34m-\u001b[0m\u001b[0mMj\u001b[0m\u001b[0;34m)\u001b[0m\u001b[0;34m\u001b[0m\u001b[0;34m\u001b[0m\u001b[0m\n",
            "\u001b[0;32m<ipython-input-92-75ff0f2002b0>\u001b[0m in \u001b[0;36mItem_based_model\u001b[0;34m(r, u, j, top_k, zero_mean, beta, idf)\u001b[0m\n\u001b[1;32m     10\u001b[0m   \u001b[0mj\u001b[0m\u001b[0;34m,\u001b[0m\u001b[0mu\u001b[0m\u001b[0;34m=\u001b[0m\u001b[0mu\u001b[0m\u001b[0;34m,\u001b[0m\u001b[0mj\u001b[0m\u001b[0;34m\u001b[0m\u001b[0;34m\u001b[0m\u001b[0m\n\u001b[1;32m     11\u001b[0m   \u001b[0mItemBased_model\u001b[0m \u001b[0;34m=\u001b[0m \u001b[0mUserBased\u001b[0m\u001b[0;34m(\u001b[0m\u001b[0mzero_mean\u001b[0m\u001b[0;34m=\u001b[0m\u001b[0mzero_mean\u001b[0m\u001b[0;34m,\u001b[0m \u001b[0mbeta\u001b[0m\u001b[0;34m=\u001b[0m\u001b[0mbeta\u001b[0m\u001b[0;34m,\u001b[0m \u001b[0midf\u001b[0m\u001b[0;34m=\u001b[0m\u001b[0midf\u001b[0m\u001b[0;34m)\u001b[0m\u001b[0;34m\u001b[0m\u001b[0;34m\u001b[0m\u001b[0m\n\u001b[0;32m---> 12\u001b[0;31m   \u001b[0msim\u001b[0m \u001b[0;34m=\u001b[0m \u001b[0mItemBased_model\u001b[0m\u001b[0;34m.\u001b[0m\u001b[0mfit\u001b[0m\u001b[0;34m(\u001b[0m\u001b[0mr\u001b[0m\u001b[0;34m.\u001b[0m\u001b[0mT\u001b[0m\u001b[0;34m)\u001b[0m\u001b[0;34m\u001b[0m\u001b[0;34m\u001b[0m\u001b[0m\n\u001b[0m\u001b[1;32m     13\u001b[0m   \u001b[0mRut\u001b[0m\u001b[0;34m,\u001b[0m\u001b[0mMj\u001b[0m\u001b[0;34m,\u001b[0m\u001b[0mMu\u001b[0m\u001b[0;34m=\u001b[0m\u001b[0mItemBased_model\u001b[0m\u001b[0;34m.\u001b[0m\u001b[0mpredict_single_rate\u001b[0m\u001b[0;34m(\u001b[0m\u001b[0mr\u001b[0m\u001b[0;34m.\u001b[0m\u001b[0mT\u001b[0m\u001b[0;34m,\u001b[0m\u001b[0mu\u001b[0m\u001b[0;34m,\u001b[0m\u001b[0mj\u001b[0m\u001b[0;34m,\u001b[0m \u001b[0mtop_k\u001b[0m\u001b[0;34m)\u001b[0m\u001b[0;34m\u001b[0m\u001b[0;34m\u001b[0m\u001b[0m\n\u001b[1;32m     14\u001b[0m   \u001b[0;32mreturn\u001b[0m \u001b[0mRut\u001b[0m\u001b[0;34m,\u001b[0m\u001b[0mMj\u001b[0m\u001b[0;34m,\u001b[0m\u001b[0mMu\u001b[0m\u001b[0;34m\u001b[0m\u001b[0;34m\u001b[0m\u001b[0m\n",
            "\u001b[0;32m<ipython-input-2-4c6159d3cfac>\u001b[0m in \u001b[0;36mfit\u001b[0;34m(self, r)\u001b[0m\n\u001b[1;32m     42\u001b[0m                 \u001b[0mtotal_intersection\u001b[0m \u001b[0;34m=\u001b[0m \u001b[0mmask\u001b[0m\u001b[0;34m.\u001b[0m\u001b[0msum\u001b[0m\u001b[0;34m(\u001b[0m\u001b[0;34m)\u001b[0m\u001b[0;34m\u001b[0m\u001b[0;34m\u001b[0m\u001b[0m\n\u001b[1;32m     43\u001b[0m \u001b[0;34m\u001b[0m\u001b[0m\n\u001b[0;32m---> 44\u001b[0;31m                 \u001b[0mself\u001b[0m\u001b[0;34m.\u001b[0m\u001b[0msim\u001b[0m\u001b[0;34m[\u001b[0m\u001b[0mi\u001b[0m\u001b[0;34m]\u001b[0m\u001b[0;34m[\u001b[0m\u001b[0mj\u001b[0m\u001b[0;34m]\u001b[0m \u001b[0;34m*=\u001b[0m \u001b[0mmin\u001b[0m\u001b[0;34m(\u001b[0m\u001b[0mtotal_intersection\u001b[0m\u001b[0;34m,\u001b[0m \u001b[0mself\u001b[0m\u001b[0;34m.\u001b[0m\u001b[0mbeta\u001b[0m\u001b[0;34m)\u001b[0m \u001b[0;34m/\u001b[0m \u001b[0mself\u001b[0m\u001b[0;34m.\u001b[0m\u001b[0mbeta\u001b[0m\u001b[0;34m\u001b[0m\u001b[0;34m\u001b[0m\u001b[0m\n\u001b[0m\u001b[1;32m     45\u001b[0m \u001b[0;34m\u001b[0m\u001b[0m\n\u001b[1;32m     46\u001b[0m         \u001b[0;32mreturn\u001b[0m \u001b[0mself\u001b[0m\u001b[0;34m.\u001b[0m\u001b[0msim\u001b[0m\u001b[0;34m\u001b[0m\u001b[0;34m\u001b[0m\u001b[0m\n",
            "\u001b[0;31mKeyboardInterrupt\u001b[0m: "
          ]
        }
      ],
      "source": [
        "import numpy as np\n",
        "r = np.array([[7, 6, 7, 4, 5, 4,6],\n",
        "              [6, 7, np.nan, 4, 3, 4,7],\n",
        "              [np.nan, 3, 3, 1, 1, np.nan,3],\n",
        "              [1, 2, 3, 3, 3, 4,2],\n",
        "              [1, np.nan, 1, 2, 3, 3,3],\n",
        "              [1, 5, 1, 2, 3, 3,5]])\n",
        "\n",
        "def Item_based_model(r,u,j,top_k,zero_mean=True,beta=1,idf=False):\n",
        "  j,u=u,j\n",
        "  ItemBased_model = UserBased(zero_mean=zero_mean, beta=beta, idf=idf)\n",
        "  sim = ItemBased_model.fit(r.T)\n",
        "  Rut,Mj,Mu=ItemBased_model.predict_single_rate(r.T,u,j, top_k)\n",
        "  return Rut,Mj,Mu\n",
        "\n",
        "def User_based_model(r,u,j,top_k,zero_mean=True,beta=1,idf=False):\n",
        "  UserBased_model = UserBased(zero_mean=zero_mean, beta=beta, idf=idf)\n",
        "  sim = UserBased_model.fit(r)\n",
        "  Rvj,Mv,Mu=UserBased_model.predict_single_rate(r,u,j, top_k)\n",
        "  return Rvj,Mv,Mu\n",
        "\n",
        "\n",
        "def Combined_SGD(r,top_k,beta,zero_mean,lamb,alpha,max_iter):\n",
        "  users,items=r.shape\n",
        "  w_users=np.random.rand(users,top_k)\n",
        "  w_items=np.random.rand(top_k,items)\n",
        "  grad_users=np.zeros(top_k)\n",
        "  grad_items=np.zeros(top_k)\n",
        "\n",
        "  r_pred=np.full((r.shape),np.nan)\n",
        "\n",
        "  for iter in range(max_iter):\n",
        "    loss=0\n",
        "    Cum_loss=0\n",
        "    for u in range(users):\n",
        "      for j in range(items):\n",
        "        if np.isnan(r[u][j]): # zaten bilmediğim değeri tahmin edemem NANları nasıl tahmin ederim\n",
        "          continue\n",
        "        else:\n",
        "          \n",
        "          Rvj,Mv,Mu=User_based_model(r,u,j,top_k,zero_mean=True,beta=1,idf=False)\n",
        "          Rut,Mj,Mu=Item_based_model(r,u,j,top_k,zero_mean=True,beta=1,idf=False)\n",
        "\n",
        "          r_pred[u][j]= Mu + np.dot(w_users[u,:],Rvj-Mv) + np.dot(w_items[:,j],Rut-Mj)\n",
        "\n",
        "          loss+= (r[u][j] - r_pred[u][j])**2 #train test splitte ayır bunları\n",
        "\n",
        "          grad_users = -2*np.dot((r[u][j] - r_pred[u][j]),(Rvj-Mv))\n",
        "          grad_items = -2*np.dot((r[u][j] - r_pred[u][j]),(Rut-Mj))\n",
        "\n",
        "          w_users[u,:] = w_users[u,:] - alpha * grad_users\n",
        "          w_items[:,j] = w_items[:,j] - alpha * grad_items\n",
        "          \n",
        "          Cum_loss+= np.nansum((r-r_pred)**2)\n",
        "\n",
        "    if(iter%10 == 0):\n",
        "        print(f\"iteration: ({iter}) , gradient: {np.linalg.norm(grad_users)+np.linalg.norm(grad_items):.3f}, loss={loss:.3f}, Total error: {Cum_loss:.3f}\")\n",
        "        \n",
        "    if np.linalg.norm(grad_users)+np.linalg.norm(grad_items) < 0.00000001:\n",
        "        print(f\"I do early stoping at iteration {iter}\")\n",
        "        break\n",
        "  return r_pred\n",
        "\n",
        "#users,items=r.shape\n",
        "# w_users=np.random.rand(users,top_k)\n",
        "# w_items=np.random.rand(top_k,items)\n",
        "# grad=np.zeros(top_k)\n",
        "top_k=4\n",
        "alpha=10**-2*(3)\n",
        "max_iter=200\n",
        "beta=1\n",
        "zero_mean=True\n",
        "lamb=1\n",
        "r_pred=Combined_SGD(r,top_k,beta,zero_mean,lamb,alpha,max_iter)\n",
        "np.set_printoptions(precision=0, suppress=True)\n",
        "print(r_pred)"
      ]
    },
    {
      "cell_type": "code",
      "source": [
        "np.set_printoptions(precision=0, suppress=True)\n",
        "\n",
        "r_pred"
      ],
      "metadata": {
        "colab": {
          "base_uri": "https://localhost:8080/"
        },
        "id": "pl4t4GELQPmN",
        "outputId": "6b2357e4-2ee3-4f35-a92a-315e862d9fcd"
      },
      "execution_count": null,
      "outputs": [
        {
          "output_type": "execute_result",
          "data": {
            "text/plain": [
              "array([[ 7.,  6.,  7.,  4.,  5.,  4.,  6.],\n",
              "       [ 6.,  7., nan,  4.,  3.,  4.,  7.],\n",
              "       [nan,  3.,  3.,  1.,  1., nan,  3.],\n",
              "       [ 1.,  2.,  3.,  3.,  3.,  4.,  2.],\n",
              "       [ 1., nan,  1.,  2.,  3.,  3.,  3.],\n",
              "       [ 1.,  5.,  1.,  2.,  3.,  3.,  5.]])"
            ]
          },
          "metadata": {},
          "execution_count": 58
        }
      ]
    },
    {
      "cell_type": "code",
      "source": [
        "np.array([[6.99701826, 6.01365855, 6.99771103, 3.99912263, 5.00242315, 3.99538269, 5.9838271 ],\n",
        "       [5.9989501 , 6.98556526,        np.nan, 4.00205566, 3.00083937, 3.99778344, 7.01523193],\n",
        "       [       np.nan, 2.99561491, 3.00100138, 0.99857788, 1.00199939, np.nan, 3.00501033],\n",
        "       [1.00246134, 1.9983931 , 3.00104609, 2.9972323 , 3.00156812, 4.00365659, 2.00315068],\n",
        "       [0.99010626,        np.nan, 1.01786441, 1.97618874, 3.04394068, 2.97602526, 2.99476216],\n",
        "       [1.00198988, 5.00946122, 0.97679499, 2.02849337, 2.96021514, 3.01236376, 4.98515699]])"
      ],
      "metadata": {
        "colab": {
          "base_uri": "https://localhost:8080/"
        },
        "id": "r6OoWytOMkXv",
        "outputId": "c7c89f52-1c2d-4439-904a-616cd81c39ca"
      },
      "execution_count": null,
      "outputs": [
        {
          "output_type": "execute_result",
          "data": {
            "text/plain": [
              "array([[6.99701826, 6.01365855, 6.99771103, 3.99912263, 5.00242315,\n",
              "        3.99538269, 5.9838271 ],\n",
              "       [5.9989501 , 6.98556526,        nan, 4.00205566, 3.00083937,\n",
              "        3.99778344, 7.01523193],\n",
              "       [       nan, 2.99561491, 3.00100138, 0.99857788, 1.00199939,\n",
              "               nan, 3.00501033],\n",
              "       [1.00246134, 1.9983931 , 3.00104609, 2.9972323 , 3.00156812,\n",
              "        4.00365659, 2.00315068],\n",
              "       [0.99010626,        nan, 1.01786441, 1.97618874, 3.04394068,\n",
              "        2.97602526, 2.99476216],\n",
              "       [1.00198988, 5.00946122, 0.97679499, 2.02849337, 2.96021514,\n",
              "        3.01236376, 4.98515699]])"
            ]
          },
          "metadata": {},
          "execution_count": 48
        }
      ]
    },
    {
      "cell_type": "code",
      "source": [
        "r = np.array([[7, 6, 7, 4, 5, 4,6],\n",
        "              [6, 7, np.nan, 4, 3, 4,7],\n",
        "              [np.nan, 3, 3, 1, 1, np.nan,3],\n",
        "              [1, 2, 3, 3, 3, 4,2],\n",
        "              [1, np.nan, 1, 2, 3, 3,3],\n",
        "              [1, 5, 1, 2, 3, 3,5]])\n",
        "\n",
        "users,items=r.shape\n",
        "top_k=5\n",
        "w_users=np.random.rand(users,top_k)\n",
        "loss=0\n",
        "grad=np.zeros(top_k)\n",
        "\n",
        "alpha=10**-2\n",
        "max_iter=10000\n",
        "for iter in range(max_iter):\n",
        "    loss=0\n",
        "    for u in range(users):\n",
        "        for j in range(items):\n",
        "            if np.isnan(r[u][j]): # zaten bilmediğim değeri tahmin edemem\n",
        "              continue\n",
        "            Rvj,Mv,Mu=UserBased_model.predict_single_rate(r,u,j, top_k) # bunun icine itemi de gom tek seferde hallet\n",
        "            r_pred= Mu + np.dot(w_users[u,:],Rvj-Mv)\n",
        "            \n",
        "            loss+= (r[u][j] - r_pred)**2 #train test splitte ayır bunları\n",
        "\n",
        "            grad = -2*(r[u][j] - r_pred)*(Rvj-Mv)\n",
        "\n",
        "            w_users[u,:] = w_users[u,:] - alpha * grad\n",
        "            \n",
        "    if(iter%100 == 0):\n",
        "        print(f\"iteration: ({iter}) , gradient: {np.linalg.norm(grad)}, loss={loss}\")\n",
        "        \n",
        "    if np.linalg.norm(grad) < 0.00000001:\n",
        "        print(f\"I do early stoping at iteration {iter}\")\n",
        "        break\n",
        "\n",
        "\n",
        "\n"
      ],
      "metadata": {
        "id": "cMQsHP7__ndg"
      },
      "execution_count": null,
      "outputs": []
    },
    {
      "cell_type": "code",
      "execution_count": null,
      "metadata": {
        "colab": {
          "base_uri": "https://localhost:8080/"
        },
        "id": "vPgsW9H8xbQ5",
        "outputId": "a8825215-d212-47c5-dafd-fcd04d154a6f"
      },
      "outputs": [
        {
          "data": {
            "text/plain": [
              "array([0., 0., 0.])"
            ]
          },
          "execution_count": 65,
          "metadata": {},
          "output_type": "execute_result"
        }
      ],
      "source": [
        "grad=np.zeros(top_k)\n",
        "grad"
      ]
    },
    {
      "cell_type": "code",
      "execution_count": null,
      "metadata": {
        "colab": {
          "base_uri": "https://localhost:8080/"
        },
        "id": "Gf0XIvRXxbjd",
        "outputId": "a5a80f84-4036-4c70-b205-71b2cf430cc7"
      },
      "outputs": [
        {
          "name": "stdout",
          "output_type": "stream",
          "text": [
            "[334.73485311]\n"
          ]
        }
      ],
      "source": [
        "users,items=r.shape\n",
        "top_k=3\n",
        "w_users=np.random.rand(1,top_k)\n",
        "loss=0\n",
        "grad=np.zeros(top_k)\n",
        "for u in range(users):\n",
        "  for j in range(items):\n",
        "    if np.isnan(r[u][j]):\n",
        "      continue\n",
        "    Rvj,Mv,Mu=UserBased_model.predict_single_rate(r,u,j, top_k=3) # bunun icine itemi de gom tek seferde hallet\n",
        "    loss+= (r[u][j] - Mu + np.dot(w_users,Rvj-Mv))**2\n",
        "print(loss)"
      ]
    },
    {
      "cell_type": "code",
      "execution_count": null,
      "metadata": {
        "id": "tZjwDYKihTW9"
      },
      "outputs": [],
      "source": [
        "def User_Item_Combined(x, y): # -> np.ndarray:\n",
        "    theta=5\n",
        "    beta = np.random.random(2)\n",
        "    alpha=1.2*10**-2\n",
        "\n",
        "    for i in range(1000000):\n",
        "        y_pred= beta[0] + beta[1] * x    \n",
        "       \n",
        "        # Update Functions:\n",
        "        g_b0 = -2 * ((y - y_pred).mean()) * np.power(np.e,(-1*np.power(((y - y_pred).mean()),2)/theta)) \n",
        "        g_b1 = -2 * ((x * (y - y_pred)).mean()) * np.power(np.e,(-1*np.power(((y - y_pred).mean()),2)/theta)) \n",
        "\n",
        "        beta_prev = np.copy(beta)\n",
        "\n",
        "\n",
        "        beta[0] = beta[0] - alpha * g_b0\n",
        "        beta[1] = beta[1] - alpha * g_b1\n",
        "        \n",
        "        if(i%1000 == 0):\n",
        "            print(f\"iteration: ({i}) beta: {beta}, gradient: {g_b0} {g_b1}\")\n",
        "            \n",
        "        if np.linalg.norm(beta - beta_prev) < 0.00000001:\n",
        "            print(f\"I do early stoping at iteration {i}\")\n",
        "            break\n",
        "\n",
        "\n",
        "    return beta"
      ]
    },
    {
      "cell_type": "code",
      "execution_count": null,
      "metadata": {
        "id": "zqciVtMshVYh"
      },
      "outputs": [],
      "source": [
        "beta=User_Item_Combined(X, y)\n",
        "beta"
      ]
    },
    {
      "cell_type": "code",
      "execution_count": null,
      "metadata": {
        "id": "sRASBcl3VMng"
      },
      "outputs": [],
      "source": [
        "r.T"
      ]
    },
    {
      "cell_type": "code",
      "execution_count": null,
      "metadata": {
        "id": "UFmGk0beCce5"
      },
      "outputs": [],
      "source": [
        "import pandas as pd\n",
        "import numpy as np\n",
        "df = pd.read_csv('https://files.grouplens.org/datasets/movielens/ml-100k/u.data', delimiter=r'\\t',\n",
        "names=['user_id', 'item_id', 'rating', 'timestamp'])\n",
        "r = df.pivot(index='user_id', columns='item_id', values='rating').values"
      ]
    },
    {
      "cell_type": "code",
      "execution_count": null,
      "metadata": {
        "id": "L2_pRCeeCjlQ"
      },
      "outputs": [],
      "source": [
        "r"
      ]
    },
    {
      "cell_type": "markdown",
      "metadata": {
        "id": "Zl9M5yxL2GHe"
      },
      "source": [
        "# Model 1"
      ]
    },
    {
      "cell_type": "markdown",
      "metadata": {
        "id": "jOTORLlY2Knv"
      },
      "source": [
        "Part *1*:"
      ]
    },
    {
      "cell_type": "code",
      "execution_count": null,
      "metadata": {
        "id": "l2aduUTi2Na_"
      },
      "outputs": [],
      "source": [
        "Casting yapmalı mıyım 4.7 to 5 gibi\n",
        "mu iki kere ekleme bir kere eklenecek"
      ]
    },
    {
      "cell_type": "code",
      "execution_count": null,
      "metadata": {
        "id": "M4esZV1DGT1Q"
      },
      "outputs": [],
      "source": [
        "r = np.array([[7, 6, 7, 4, 5, 4],\n",
        "              [6, 7, np.nan, 4, 3, 4],\n",
        "              [np.nan, 3, 3, 1, 1, np.nan],\n",
        "              [1, 2, 3, 3, 3, 4],\n",
        "              [1, np.nan, 1, 2, 3, 3]])"
      ]
    },
    {
      "cell_type": "code",
      "execution_count": null,
      "metadata": {
        "id": "HMzJBGTQINZg"
      },
      "outputs": [],
      "source": [
        "r"
      ]
    },
    {
      "cell_type": "code",
      "execution_count": null,
      "metadata": {
        "id": "ugom9IO5UBiL"
      },
      "outputs": [],
      "source": [
        ""
      ]
    },
    {
      "cell_type": "code",
      "execution_count": null,
      "metadata": {
        "id": "e-UOviLRGVRl"
      },
      "outputs": [],
      "source": [
        "m, n = r.shape\n",
        "mu = np.nanmean(r, axis=1)\n",
        "beta=3\n",
        "\n",
        "\n",
        "sim = np.zeros((m, m))\n",
        "sim"
      ]
    },
    {
      "cell_type": "code",
      "execution_count": null,
      "metadata": {
        "id": "L4EFSe0EItdr"
      },
      "outputs": [],
      "source": [
        "\n",
        "\n",
        "idf = np.log(1 + m / (~np.isnan(r)).sum(axis=0))\n",
        "idf"
      ]
    },
    {
      "cell_type": "code",
      "execution_count": null,
      "metadata": {
        "id": "wkkEpafvIxyy"
      },
      "outputs": [],
      "source": [
        "\n",
        "\n",
        "\n",
        "for i in range(m):\n",
        "    for j in range(m):\n",
        "        mask = ~np.isnan(r[i, :]) & ~np.isnan(r[j, :])\n",
        "\n",
        "        si = r[i, mask] - mu[i]\n",
        "        sj = r[j, mask] - mu[j]\n",
        "\n",
        "        sim[i][j] = (si * sj * idf[mask]).sum() / (\n",
        "                np.sqrt((idf[mask] * (si ** 2)).sum()) * np.sqrt((idf[mask] * (sj ** 2)).sum()))\n",
        "\n",
        "        total_intersection = mask.sum()\n",
        "\n",
        "        sim[i][j] *= min(total_intersection, beta) / beta\n",
        "\n",
        "sim"
      ]
    },
    {
      "cell_type": "code",
      "execution_count": null,
      "metadata": {
        "id": "b1UsknZ6I8ip"
      },
      "outputs": [],
      "source": [
        "r"
      ]
    },
    {
      "cell_type": "code",
      "execution_count": null,
      "metadata": {
        "id": "kGBd1slPHvj5"
      },
      "outputs": [],
      "source": [
        "j= 3\n",
        "i= \n",
        "mask = ~np.isnan(r[i, :]) & ~np.isnan(r[j, :])\n"
      ]
    },
    {
      "cell_type": "code",
      "execution_count": null,
      "metadata": {
        "id": "yOrO3EaIH_x_"
      },
      "outputs": [],
      "source": [
        "topk_users = users_rated_j[self.sim[u, users_rated_j].argsort()[::-1][:top_k]]\n",
        "\n",
        "mean_centered_topk_user_rate = r[topk_users, j] - self.mu[topk_users]\n",
        "\n",
        "w = self.sim[u, topk_users]\n",
        "\n",
        "result= np.dot(mean_centered_topk_user_rate, w) / np.abs(w).sum() + self.mu[u]"
      ]
    },
    {
      "cell_type": "code",
      "execution_count": null,
      "metadata": {
        "id": "Iwyo2-1JFl_k"
      },
      "outputs": [],
      "source": [
        "r_row,r_col=r.shape"
      ]
    },
    {
      "cell_type": "code",
      "execution_count": null,
      "metadata": {
        "id": "ExazVbiHFm27"
      },
      "outputs": [],
      "source": [
        "for u in range(r_row): # user sayısı kadar don\n",
        "  for j in range(r_col): # item sayısı kadar don\n",
        "  "
      ]
    },
    {
      "cell_type": "code",
      "execution_count": null,
      "metadata": {
        "id": "TtSzFjdBF30W"
      },
      "outputs": [],
      "source": [
        ""
      ]
    }
  ],
  "metadata": {
    "colab": {
      "collapsed_sections": [],
      "name": "YouDo 2.ipynb",
      "provenance": [],
      "authorship_tag": "ABX9TyMMmo7hx62aop3NoaLop4l9",
      "include_colab_link": true
    },
    "kernelspec": {
      "display_name": "Python 3",
      "name": "python3"
    },
    "language_info": {
      "name": "python"
    }
  },
  "nbformat": 4,
  "nbformat_minor": 0
}
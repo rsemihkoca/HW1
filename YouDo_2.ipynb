{
  "cells": [
    {
      "cell_type": "markdown",
      "metadata": {
        "id": "view-in-github",
        "colab_type": "text"
      },
      "source": [
        "<a href=\"https://colab.research.google.com/github/rsemihkoca/YouDo-ds-bc/blob/main/YouDo_2.ipynb\" target=\"_parent\"><img src=\"https://colab.research.google.com/assets/colab-badge.svg\" alt=\"Open In Colab\"/></a>"
      ]
    },
    {
      "cell_type": "code",
      "execution_count": 105,
      "metadata": {
        "colab": {
          "base_uri": "https://localhost:8080/"
        },
        "id": "k2XWpPyCGjs_",
        "outputId": "1e9ced6f-5c15-4f33-95ba-70d6adcc43c3"
      },
      "outputs": [
        {
          "output_type": "execute_result",
          "data": {
            "text/plain": [
              "(            Item_0  Item_1  Item_2  Item_3  Item_4  Item_5  Item_1_cpy\n",
              " User_0         7.0     6.0     7.0       4       5     4.0           6\n",
              " User_1         6.0     7.0     NaN       4       3     4.0           7\n",
              " User_2         NaN     3.0     3.0       1       1     NaN           3\n",
              " User_3         1.0     2.0     3.0       3       3     4.0           2\n",
              " User_4         1.0     NaN     1.0       2       3     3.0           3\n",
              " User_4_cpy     1.0     5.0     1.0       2       3     3.0           5,\n",
              "             User_0  User_1  User_2  User_3  User_4  User_4_cpy\n",
              " Item_0         7.0     6.0     NaN     1.0     1.0         1.0\n",
              " Item_1         6.0     7.0     3.0     2.0     NaN         5.0\n",
              " Item_2         7.0     NaN     3.0     3.0     1.0         1.0\n",
              " Item_3         4.0     4.0     1.0     3.0     2.0         2.0\n",
              " Item_4         5.0     3.0     1.0     3.0     3.0         3.0\n",
              " Item_5         4.0     4.0     NaN     4.0     3.0         3.0\n",
              " Item_1_cpy     6.0     7.0     3.0     2.0     3.0         5.0)"
            ]
          },
          "metadata": {},
          "execution_count": 105
        }
      ],
      "source": [
        "import numpy as np\n",
        "\n",
        "\n",
        "class UserBased:\n",
        "    mu: np.ndarray\n",
        "    sim: np.ndarray\n",
        "\n",
        "    def __init__(self, zero_mean: bool = True, beta: int = 1, idf: bool = False, verbosity: int = 0):\n",
        "\n",
        "        self.zero_mean = zero_mean\n",
        "        self.beta = beta\n",
        "        self.idf = idf\n",
        "        self.verbosity = verbosity\n",
        "\n",
        "    def fit(self, r: np.ndarray):\n",
        "        m, n = r.shape\n",
        "        if self.zero_mean:\n",
        "            self.mu = np.nanmean(r, axis=1)\n",
        "        else:\n",
        "            self.mu = np.zeros(m)\n",
        "\n",
        "        self.sim = np.zeros((m, m))\n",
        "\n",
        "        if self.idf:\n",
        "            idf = np.log(1 + m / (~np.isnan(r)).sum(axis=0))\n",
        "        else:\n",
        "            idf = np.ones(n)\n",
        "\n",
        "        if self.verbosity > 0:\n",
        "            print(idf)\n",
        "\n",
        "        for i in range(m):\n",
        "            for j in range(m):\n",
        "                mask = ~np.isnan(r[i, :]) & ~np.isnan(r[j, :])\n",
        "\n",
        "                si = r[i, mask] - self.mu[i]\n",
        "                sj = r[j, mask] - self.mu[j]\n",
        "\n",
        "                self.sim[i][j] = (si * sj * idf[mask]).sum() / (\n",
        "                        np.sqrt((idf[mask] * (si ** 2)).sum()) * np.sqrt((idf[mask] * (sj ** 2)).sum()))\n",
        "\n",
        "                total_intersection = mask.sum()\n",
        "\n",
        "                self.sim[i][j] *= min(total_intersection, self.beta) / self.beta\n",
        "\n",
        "        return self.sim\n",
        "\n",
        "    def predict_single_rate(self, r: np.array, u: int, j: int, top_k: int = 3) -> float:\n",
        "        _, n = r.shape\n",
        "\n",
        "        users_rated_j = np.nonzero(~np.isnan(r[:, j]))[0]\n",
        "\n",
        "        topk_users = users_rated_j[self.sim[u, users_rated_j].argsort()[::-1][:top_k]]\n",
        "\n",
        "        mean_centered_topk_user_rate = r[topk_users, j] - self.mu[topk_users]\n",
        "        Rvj=r[topk_users, j] # topk k similar userin j itemine vermiş oldukları rating vectoru\n",
        "        # w = self.sim[u, topk_users]\n",
        "        Mv=self.mu[topk_users]\n",
        "        # return np.dot(mean_centered_topk_user_rate, w) / np.abs(w).sum() + self.mu[u]\n",
        "        Mu=self.mu[u]\n",
        "\n",
        "        return Rvj,Mv,Mu # (rvj-mv) ve mv\n",
        "\n",
        "   \n",
        "\n",
        "\n",
        "# r = np.array([[7, 6, 7, 4, 5, 4,6],\n",
        "#               [6, 7, np.nan, 4, 3, 4,7],\n",
        "#               [np.nan, 3, 3, 1, 1, np.nan,3],\n",
        "#               [1, 2, 3, 3, 3, 4,2],\n",
        "#               [1, np.nan, 1, 2, 3, 3,3],\n",
        "#               [1, 5, 1, 2, 3, 3,5]])\n",
        "\n",
        "# u=4 # 5. user \n",
        "# j=1 # 2. item nan values\n",
        "# UserBased_model = UserBased(zero_mean=False, beta=1, idf=False)\n",
        "\n",
        "# sim = UserBased_model.fit(r)\n",
        "\n",
        "# r_userbased=UserBased_model.predict_single_rate(r,u,j, top_k=1)\n",
        "# r_userbased\n",
        "\n",
        "# j,u=u,j\n",
        "# u\n",
        "# u=1  2. item \n",
        "# j=4  5. user nan values\n",
        "# ItemBased_model = UserBased(zero_mean=False, beta=1, idf=False)\n",
        "\n",
        "# sim = ItemBased_model.fit(r.T)\n",
        "\n",
        "# r_itembased=ItemBased_model.predict_single_rate(r.T,u,j, top_k=1)\n",
        "\n",
        "\n",
        "# r_itembased\n",
        "        \n",
        "import pandas as pd\n",
        "r = pd.DataFrame([[7, 6, 7, 4, 5, 4,6],\n",
        "              [6, 7, np.nan, 4, 3, 4,7],\n",
        "              [np.nan, 3, 3, 1, 1, np.nan,3],\n",
        "              [1, 2, 3, 3, 3, 4,2],\n",
        "              [1, np.nan, 1, 2, 3, 3,3],\n",
        "              [1, 5, 1, 2, 3, 3,5]])\n",
        "r.index =['User_0','User_1', 'User_2', 'User_3', 'User_4','User_4_cpy']\n",
        "r.columns =['Item_0','Item_1', 'Item_2', 'Item_3', 'Item_4', 'Item_5','Item_1_cpy']\n",
        "r,r.T\n",
        "# r_pred=np.full((r.shape),np.nan)\n",
        "# r_pred    "
      ]
    },
    {
      "cell_type": "code",
      "source": [
        "df = pd.read_csv('https://files.grouplens.org/datasets/movielens/ml-100k/u.data', delimiter=r'\\t',\n",
        "names=['user_id', 'item_id', 'rating', 'timestamp'])\n",
        "r = df.pivot(index='user_id', columns='item_id', values='rating')\n",
        "print(r[r.isnull().all(axis=0)],r.shape)\n",
        "r = df.pivot(index='user_id', columns='item_id', values='rating').values\n"
      ],
      "metadata": {
        "colab": {
          "base_uri": "https://localhost:8080/"
        },
        "id": "TZGqpdPBh_KC",
        "outputId": "6e919069-e9f6-4238-b363-861476919eed"
      },
      "execution_count": 227,
      "outputs": [
        {
          "output_type": "stream",
          "name": "stderr",
          "text": [
            "/usr/local/lib/python3.7/dist-packages/pandas/util/_decorators.py:311: ParserWarning: Falling back to the 'python' engine because the 'c' engine does not support regex separators (separators > 1 char and different from '\\s+' are interpreted as regex); you can avoid this warning by specifying engine='python'.\n",
            "  return func(*args, **kwargs)\n"
          ]
        },
        {
          "output_type": "stream",
          "name": "stdout",
          "text": [
            "Empty DataFrame\n",
            "Columns: [1, 2, 3, 4, 5, 6, 7, 8, 9, 10, 11, 12, 13, 14, 15, 16, 17, 18, 19, 20, 21, 22, 23, 24, 25, 26, 27, 28, 29, 30, 31, 32, 33, 34, 35, 36, 37, 38, 39, 40, 41, 42, 43, 44, 45, 46, 47, 48, 49, 50, 51, 52, 53, 54, 55, 56, 57, 58, 59, 60, 61, 62, 63, 64, 65, 66, 67, 68, 69, 70, 71, 72, 73, 74, 75, 76, 77, 78, 79, 80, 81, 82, 83, 84, 85, 86, 87, 88, 89, 90, 91, 92, 93, 94, 95, 96, 97, 98, 99, 100, ...]\n",
            "Index: []\n",
            "\n",
            "[0 rows x 1682 columns] (943, 1682)\n"
          ]
        },
        {
          "output_type": "stream",
          "name": "stderr",
          "text": [
            "/usr/local/lib/python3.7/dist-packages/ipykernel_launcher.py:4: UserWarning: Boolean Series key will be reindexed to match DataFrame index.\n",
            "  after removing the cwd from sys.path.\n"
          ]
        }
      ]
    },
    {
      "cell_type": "code",
      "source": [
        "pd.DataFrame(r).head(5)"
      ],
      "metadata": {
        "colab": {
          "base_uri": "https://localhost:8080/",
          "height": 236
        },
        "id": "rWCA93oQtKCt",
        "outputId": "3e032b8a-8546-4aed-fb67-ed311a9a650e"
      },
      "execution_count": 220,
      "outputs": [
        {
          "output_type": "execute_result",
          "data": {
            "text/plain": [
              "   0     1     2     3     4     5     6     7     8     9     ...  1672  \\\n",
              "0   5.0   3.0   4.0   3.0   3.0   5.0   4.0   1.0   5.0   3.0  ...   NaN   \n",
              "1   4.0   NaN   NaN   NaN   NaN   NaN   NaN   NaN   NaN   2.0  ...   NaN   \n",
              "2   NaN   NaN   NaN   NaN   NaN   NaN   NaN   NaN   NaN   NaN  ...   NaN   \n",
              "3   NaN   NaN   NaN   NaN   NaN   NaN   NaN   NaN   NaN   NaN  ...   NaN   \n",
              "4   4.0   3.0   NaN   NaN   NaN   NaN   NaN   NaN   NaN   NaN  ...   NaN   \n",
              "\n",
              "   1673  1674  1675  1676  1677  1678  1679  1680  1681  \n",
              "0   NaN   NaN   NaN   NaN   NaN   NaN   NaN   NaN   NaN  \n",
              "1   NaN   NaN   NaN   NaN   NaN   NaN   NaN   NaN   NaN  \n",
              "2   NaN   NaN   NaN   NaN   NaN   NaN   NaN   NaN   NaN  \n",
              "3   NaN   NaN   NaN   NaN   NaN   NaN   NaN   NaN   NaN  \n",
              "4   NaN   NaN   NaN   NaN   NaN   NaN   NaN   NaN   NaN  \n",
              "\n",
              "[5 rows x 1682 columns]"
            ],
            "text/html": [
              "\n",
              "  <div id=\"df-a6903fc7-60ef-4891-a793-629ecf27d7c9\">\n",
              "    <div class=\"colab-df-container\">\n",
              "      <div>\n",
              "<style scoped>\n",
              "    .dataframe tbody tr th:only-of-type {\n",
              "        vertical-align: middle;\n",
              "    }\n",
              "\n",
              "    .dataframe tbody tr th {\n",
              "        vertical-align: top;\n",
              "    }\n",
              "\n",
              "    .dataframe thead th {\n",
              "        text-align: right;\n",
              "    }\n",
              "</style>\n",
              "<table border=\"1\" class=\"dataframe\">\n",
              "  <thead>\n",
              "    <tr style=\"text-align: right;\">\n",
              "      <th></th>\n",
              "      <th>0</th>\n",
              "      <th>1</th>\n",
              "      <th>2</th>\n",
              "      <th>3</th>\n",
              "      <th>4</th>\n",
              "      <th>5</th>\n",
              "      <th>6</th>\n",
              "      <th>7</th>\n",
              "      <th>8</th>\n",
              "      <th>9</th>\n",
              "      <th>...</th>\n",
              "      <th>1672</th>\n",
              "      <th>1673</th>\n",
              "      <th>1674</th>\n",
              "      <th>1675</th>\n",
              "      <th>1676</th>\n",
              "      <th>1677</th>\n",
              "      <th>1678</th>\n",
              "      <th>1679</th>\n",
              "      <th>1680</th>\n",
              "      <th>1681</th>\n",
              "    </tr>\n",
              "  </thead>\n",
              "  <tbody>\n",
              "    <tr>\n",
              "      <th>0</th>\n",
              "      <td>5.0</td>\n",
              "      <td>3.0</td>\n",
              "      <td>4.0</td>\n",
              "      <td>3.0</td>\n",
              "      <td>3.0</td>\n",
              "      <td>5.0</td>\n",
              "      <td>4.0</td>\n",
              "      <td>1.0</td>\n",
              "      <td>5.0</td>\n",
              "      <td>3.0</td>\n",
              "      <td>...</td>\n",
              "      <td>NaN</td>\n",
              "      <td>NaN</td>\n",
              "      <td>NaN</td>\n",
              "      <td>NaN</td>\n",
              "      <td>NaN</td>\n",
              "      <td>NaN</td>\n",
              "      <td>NaN</td>\n",
              "      <td>NaN</td>\n",
              "      <td>NaN</td>\n",
              "      <td>NaN</td>\n",
              "    </tr>\n",
              "    <tr>\n",
              "      <th>1</th>\n",
              "      <td>4.0</td>\n",
              "      <td>NaN</td>\n",
              "      <td>NaN</td>\n",
              "      <td>NaN</td>\n",
              "      <td>NaN</td>\n",
              "      <td>NaN</td>\n",
              "      <td>NaN</td>\n",
              "      <td>NaN</td>\n",
              "      <td>NaN</td>\n",
              "      <td>2.0</td>\n",
              "      <td>...</td>\n",
              "      <td>NaN</td>\n",
              "      <td>NaN</td>\n",
              "      <td>NaN</td>\n",
              "      <td>NaN</td>\n",
              "      <td>NaN</td>\n",
              "      <td>NaN</td>\n",
              "      <td>NaN</td>\n",
              "      <td>NaN</td>\n",
              "      <td>NaN</td>\n",
              "      <td>NaN</td>\n",
              "    </tr>\n",
              "    <tr>\n",
              "      <th>2</th>\n",
              "      <td>NaN</td>\n",
              "      <td>NaN</td>\n",
              "      <td>NaN</td>\n",
              "      <td>NaN</td>\n",
              "      <td>NaN</td>\n",
              "      <td>NaN</td>\n",
              "      <td>NaN</td>\n",
              "      <td>NaN</td>\n",
              "      <td>NaN</td>\n",
              "      <td>NaN</td>\n",
              "      <td>...</td>\n",
              "      <td>NaN</td>\n",
              "      <td>NaN</td>\n",
              "      <td>NaN</td>\n",
              "      <td>NaN</td>\n",
              "      <td>NaN</td>\n",
              "      <td>NaN</td>\n",
              "      <td>NaN</td>\n",
              "      <td>NaN</td>\n",
              "      <td>NaN</td>\n",
              "      <td>NaN</td>\n",
              "    </tr>\n",
              "    <tr>\n",
              "      <th>3</th>\n",
              "      <td>NaN</td>\n",
              "      <td>NaN</td>\n",
              "      <td>NaN</td>\n",
              "      <td>NaN</td>\n",
              "      <td>NaN</td>\n",
              "      <td>NaN</td>\n",
              "      <td>NaN</td>\n",
              "      <td>NaN</td>\n",
              "      <td>NaN</td>\n",
              "      <td>NaN</td>\n",
              "      <td>...</td>\n",
              "      <td>NaN</td>\n",
              "      <td>NaN</td>\n",
              "      <td>NaN</td>\n",
              "      <td>NaN</td>\n",
              "      <td>NaN</td>\n",
              "      <td>NaN</td>\n",
              "      <td>NaN</td>\n",
              "      <td>NaN</td>\n",
              "      <td>NaN</td>\n",
              "      <td>NaN</td>\n",
              "    </tr>\n",
              "    <tr>\n",
              "      <th>4</th>\n",
              "      <td>4.0</td>\n",
              "      <td>3.0</td>\n",
              "      <td>NaN</td>\n",
              "      <td>NaN</td>\n",
              "      <td>NaN</td>\n",
              "      <td>NaN</td>\n",
              "      <td>NaN</td>\n",
              "      <td>NaN</td>\n",
              "      <td>NaN</td>\n",
              "      <td>NaN</td>\n",
              "      <td>...</td>\n",
              "      <td>NaN</td>\n",
              "      <td>NaN</td>\n",
              "      <td>NaN</td>\n",
              "      <td>NaN</td>\n",
              "      <td>NaN</td>\n",
              "      <td>NaN</td>\n",
              "      <td>NaN</td>\n",
              "      <td>NaN</td>\n",
              "      <td>NaN</td>\n",
              "      <td>NaN</td>\n",
              "    </tr>\n",
              "  </tbody>\n",
              "</table>\n",
              "<p>5 rows × 1682 columns</p>\n",
              "</div>\n",
              "      <button class=\"colab-df-convert\" onclick=\"convertToInteractive('df-a6903fc7-60ef-4891-a793-629ecf27d7c9')\"\n",
              "              title=\"Convert this dataframe to an interactive table.\"\n",
              "              style=\"display:none;\">\n",
              "        \n",
              "  <svg xmlns=\"http://www.w3.org/2000/svg\" height=\"24px\"viewBox=\"0 0 24 24\"\n",
              "       width=\"24px\">\n",
              "    <path d=\"M0 0h24v24H0V0z\" fill=\"none\"/>\n",
              "    <path d=\"M18.56 5.44l.94 2.06.94-2.06 2.06-.94-2.06-.94-.94-2.06-.94 2.06-2.06.94zm-11 1L8.5 8.5l.94-2.06 2.06-.94-2.06-.94L8.5 2.5l-.94 2.06-2.06.94zm10 10l.94 2.06.94-2.06 2.06-.94-2.06-.94-.94-2.06-.94 2.06-2.06.94z\"/><path d=\"M17.41 7.96l-1.37-1.37c-.4-.4-.92-.59-1.43-.59-.52 0-1.04.2-1.43.59L10.3 9.45l-7.72 7.72c-.78.78-.78 2.05 0 2.83L4 21.41c.39.39.9.59 1.41.59.51 0 1.02-.2 1.41-.59l7.78-7.78 2.81-2.81c.8-.78.8-2.07 0-2.86zM5.41 20L4 18.59l7.72-7.72 1.47 1.35L5.41 20z\"/>\n",
              "  </svg>\n",
              "      </button>\n",
              "      \n",
              "  <style>\n",
              "    .colab-df-container {\n",
              "      display:flex;\n",
              "      flex-wrap:wrap;\n",
              "      gap: 12px;\n",
              "    }\n",
              "\n",
              "    .colab-df-convert {\n",
              "      background-color: #E8F0FE;\n",
              "      border: none;\n",
              "      border-radius: 50%;\n",
              "      cursor: pointer;\n",
              "      display: none;\n",
              "      fill: #1967D2;\n",
              "      height: 32px;\n",
              "      padding: 0 0 0 0;\n",
              "      width: 32px;\n",
              "    }\n",
              "\n",
              "    .colab-df-convert:hover {\n",
              "      background-color: #E2EBFA;\n",
              "      box-shadow: 0px 1px 2px rgba(60, 64, 67, 0.3), 0px 1px 3px 1px rgba(60, 64, 67, 0.15);\n",
              "      fill: #174EA6;\n",
              "    }\n",
              "\n",
              "    [theme=dark] .colab-df-convert {\n",
              "      background-color: #3B4455;\n",
              "      fill: #D2E3FC;\n",
              "    }\n",
              "\n",
              "    [theme=dark] .colab-df-convert:hover {\n",
              "      background-color: #434B5C;\n",
              "      box-shadow: 0px 1px 3px 1px rgba(0, 0, 0, 0.15);\n",
              "      filter: drop-shadow(0px 1px 2px rgba(0, 0, 0, 0.3));\n",
              "      fill: #FFFFFF;\n",
              "    }\n",
              "  </style>\n",
              "\n",
              "      <script>\n",
              "        const buttonEl =\n",
              "          document.querySelector('#df-a6903fc7-60ef-4891-a793-629ecf27d7c9 button.colab-df-convert');\n",
              "        buttonEl.style.display =\n",
              "          google.colab.kernel.accessAllowed ? 'block' : 'none';\n",
              "\n",
              "        async function convertToInteractive(key) {\n",
              "          const element = document.querySelector('#df-a6903fc7-60ef-4891-a793-629ecf27d7c9');\n",
              "          const dataTable =\n",
              "            await google.colab.kernel.invokeFunction('convertToInteractive',\n",
              "                                                     [key], {});\n",
              "          if (!dataTable) return;\n",
              "\n",
              "          const docLinkHtml = 'Like what you see? Visit the ' +\n",
              "            '<a target=\"_blank\" href=https://colab.research.google.com/notebooks/data_table.ipynb>data table notebook</a>'\n",
              "            + ' to learn more about interactive tables.';\n",
              "          element.innerHTML = '';\n",
              "          dataTable['output_type'] = 'display_data';\n",
              "          await google.colab.output.renderOutput(dataTable, element);\n",
              "          const docLink = document.createElement('div');\n",
              "          docLink.innerHTML = docLinkHtml;\n",
              "          element.appendChild(docLink);\n",
              "        }\n",
              "      </script>\n",
              "    </div>\n",
              "  </div>\n",
              "  "
            ]
          },
          "metadata": {},
          "execution_count": 220
        }
      ]
    },
    {
      "cell_type": "code",
      "execution_count": 228,
      "metadata": {
        "colab": {
          "base_uri": "https://localhost:8080/"
        },
        "id": "uLpWJ5stkPlq",
        "outputId": "9809d3bd-cc6c-49dc-bc51-7a979619ac65"
      },
      "outputs": [
        {
          "output_type": "stream",
          "name": "stderr",
          "text": [
            "/usr/local/lib/python3.7/dist-packages/ipykernel_launcher.py:40: RuntimeWarning: invalid value encountered in double_scalars\n"
          ]
        },
        {
          "output_type": "execute_result",
          "data": {
            "text/plain": [
              "array([[ 1.,  0., ..., -0.,  0.],\n",
              "       [ 0.,  1., ...,  0.,  1.],\n",
              "       ...,\n",
              "       [-0.,  0., ...,  1.,  0.],\n",
              "       [ 0.,  1., ...,  0.,  1.]])"
            ]
          },
          "metadata": {},
          "execution_count": 228
        }
      ],
      "source": [
        "import numpy as np\n",
        "# r_init = np.array([[7, 6, 7, 4, 5, 4,6],\n",
        "#               [6, 7, np.nan, 4, 3, 4,7],\n",
        "#               [np.nan, 3, 3, 1, 1, np.nan,3],\n",
        "#               [1, 2, 3, 3, 3, 4,2],\n",
        "#               [1, np.nan, 1, 2, 3, 3,3],\n",
        "#               [1, 5, 1, 2, 3, 3,5]])\n",
        "r=r.copy()\n",
        "#r=r_init.copy()\n",
        "ItemBased_model = UserBased(zero_mean, beta, idf)\n",
        "ItemBased_model.fit(r.T)\n",
        "\n",
        "UserBased_model = UserBased(zero_mean, beta, idf)\n",
        "UserBased_model.fit(r)"
      ]
    },
    {
      "cell_type": "code",
      "source": [
        "\n",
        "# def Item_based_model(r,u,j,top_k):\n",
        "\n",
        "#   Rut,Mj,Mu=ItemBased_model.predict_single_rate(r,u,j, top_k)\n",
        "#   return Rut,Mj,Mu\n",
        "\n",
        "# def User_based_model(r,u,j,top_k):\n",
        "\n",
        "#   Rvj,Mv,Mu=UserBased_model.predict_single_rate(r,u,j, top_k)\n",
        "#   return Rvj,Mv,Mu\n",
        "\n",
        "\n",
        "def Combined_SGD(r,ItemBased_model,UserBased_model,top_k,beta,zero_mean,idf,lamb,alpha,max_iter):\n",
        "  users,items=r.shape\n",
        "  w_users=np.random.rand(users,top_k)\n",
        "  w_items=np.random.rand(top_k,items)\n",
        "  grad_users=np.zeros(top_k)\n",
        "  grad_items=np.zeros(top_k)\n",
        "\n",
        "  ItemBased_model = ItemBased_model\n",
        "  UserBased_model = UserBased_model\n",
        "\n",
        "  r_pred=np.full((r.shape),np.nan)\n",
        "\n",
        "  for iter in range(max_iter):\n",
        "    loss=0\n",
        "    Cum_loss=0\n",
        "    for u in range(users): \n",
        "      for j in range(items): \n",
        "        if np.isnan(r[u][j]): # zaten bilmediğim değeri tahmin edemem NANları nasıl tahmin ederim\n",
        "          continue\n",
        "        else:\n",
        "          \n",
        "          Rvj,Mv,Mu=UserBased_model.predict_single_rate(r,u,j, top_k)\n",
        "          Rut,Mj,Mt=ItemBased_model.predict_single_rate(r.T,j,u, top_k)\n",
        "\n",
        "          r_pred[u][j]= Mu + np.dot(w_users[u,:],Rvj-Mv) + np.dot(w_items[:,j],Rut-Mj)\n",
        "\n",
        "          loss+= (r[u][j] - r_pred[u][j])**2 #train test splitte ayır bunları\n",
        "\n",
        "          grad_users = -2*np.dot((r[u][j] - r_pred[u][j]),(Rvj-Mv))\n",
        "          grad_items = -2*np.dot((r[u][j] - r_pred[u][j]),(Rut-Mj))\n",
        "\n",
        "          w_users_prev=w_users.copy()\n",
        "          w_items_prev=w_items.copy()\n",
        "\n",
        "          w_users[u,:] = w_users[u,:] - alpha * grad_users\n",
        "          w_items[:,j] = w_items[:,j] - alpha * grad_items\n",
        "          \n",
        "          #Cum_loss+= np.nansum((r-r_pred)**2)\n",
        "          \n",
        "\n",
        "      if(j%10 == 0):\n",
        "          print(f\"iteration: ({iter}) , gradient: {np.linalg.norm(grad_users)+np.linalg.norm(grad_items):.3f}, loss={loss:.3f}, Total error: {Cum_loss:.3f}\")\n",
        "                \n",
        "      # if np.linalg.norm(w_users-w_users_prev)+np.linalg.norm(w_items-w_items_prev) < 0.000002:\n",
        "      #     print(f\"I do early stoping at iteration {iter}\")\n",
        "      #     break\n",
        "  return r_pred,w_users,w_items\n",
        "\n",
        "#users,items=r.shape\n",
        "# w_users=np.random.rand(users,top_k)\n",
        "# w_items=np.random.rand(top_k,items)\n",
        "# grad=np.zeros(top_k)\n",
        "top_k=1\n",
        "alpha=(3)*10**-2\n",
        "max_iter=20\n",
        "beta=1\n",
        "zero_mean=True\n",
        "lamb=1\n",
        "idf=False\n",
        "\n",
        "r_pred,w_users,w_items=Combined_SGD(r,ItemBased_model,UserBased_model,top_k,beta,zero_mean,idf,lamb,alpha,max_iter)\n",
        "np.set_printoptions()"
      ],
      "metadata": {
        "id": "T-g1pLsC1x-A"
      },
      "execution_count": 233,
      "outputs": []
    },
    {
      "cell_type": "code",
      "source": [
        "np.nanmean((r-r_pred)**2)**0.5"
      ],
      "metadata": {
        "colab": {
          "base_uri": "https://localhost:8080/"
        },
        "id": "hqCOukDx2CGI",
        "outputId": "29d1116e-b6cd-49a2-9a15-db3f7fe3ee65"
      },
      "execution_count": 238,
      "outputs": [
        {
          "output_type": "execute_result",
          "data": {
            "text/plain": [
              "0.20403047063932178"
            ]
          },
          "metadata": {},
          "execution_count": 238
        }
      ]
    },
    {
      "cell_type": "code",
      "source": [
        "def topla(a,b):\n",
        "  return a+b\n",
        "def main():\n",
        "  a=5\n",
        "  b=6\n",
        "  return topla(a,b)\n",
        "main()"
      ],
      "metadata": {
        "colab": {
          "base_uri": "https://localhost:8080/"
        },
        "id": "9oQfz8ranmD2",
        "outputId": "088b8366-9302-4013-dff7-e0e28c4ca704"
      },
      "execution_count": 119,
      "outputs": [
        {
          "output_type": "execute_result",
          "data": {
            "text/plain": [
              "11"
            ]
          },
          "metadata": {},
          "execution_count": 119
        }
      ]
    },
    {
      "cell_type": "code",
      "source": [
        "pd.DataFrame(w_users)"
      ],
      "metadata": {
        "colab": {
          "base_uri": "https://localhost:8080/",
          "height": 237
        },
        "id": "pl4t4GELQPmN",
        "outputId": "b1ad6be5-a35c-4b7f-ab76-ecd900a7a901"
      },
      "execution_count": 102,
      "outputs": [
        {
          "output_type": "execute_result",
          "data": {
            "text/plain": [
              "          0         1         2         3\n",
              "0  0.336198  0.218681 -0.338324 -0.061333\n",
              "1  0.202620 -0.098350 -0.221889 -0.203923\n",
              "2  0.233252 -0.005706 -0.920284  0.235778\n",
              "3  0.804346 -0.033304  0.350887  0.435210\n",
              "4 -0.109812  0.382028  0.208525  0.060849\n",
              "5  0.295427 -0.093575 -0.064323  0.106154"
            ],
            "text/html": [
              "\n",
              "  <div id=\"df-83c1e83c-c0bb-4ccf-b288-bf1b3992bc36\">\n",
              "    <div class=\"colab-df-container\">\n",
              "      <div>\n",
              "<style scoped>\n",
              "    .dataframe tbody tr th:only-of-type {\n",
              "        vertical-align: middle;\n",
              "    }\n",
              "\n",
              "    .dataframe tbody tr th {\n",
              "        vertical-align: top;\n",
              "    }\n",
              "\n",
              "    .dataframe thead th {\n",
              "        text-align: right;\n",
              "    }\n",
              "</style>\n",
              "<table border=\"1\" class=\"dataframe\">\n",
              "  <thead>\n",
              "    <tr style=\"text-align: right;\">\n",
              "      <th></th>\n",
              "      <th>0</th>\n",
              "      <th>1</th>\n",
              "      <th>2</th>\n",
              "      <th>3</th>\n",
              "    </tr>\n",
              "  </thead>\n",
              "  <tbody>\n",
              "    <tr>\n",
              "      <th>0</th>\n",
              "      <td>0.336198</td>\n",
              "      <td>0.218681</td>\n",
              "      <td>-0.338324</td>\n",
              "      <td>-0.061333</td>\n",
              "    </tr>\n",
              "    <tr>\n",
              "      <th>1</th>\n",
              "      <td>0.202620</td>\n",
              "      <td>-0.098350</td>\n",
              "      <td>-0.221889</td>\n",
              "      <td>-0.203923</td>\n",
              "    </tr>\n",
              "    <tr>\n",
              "      <th>2</th>\n",
              "      <td>0.233252</td>\n",
              "      <td>-0.005706</td>\n",
              "      <td>-0.920284</td>\n",
              "      <td>0.235778</td>\n",
              "    </tr>\n",
              "    <tr>\n",
              "      <th>3</th>\n",
              "      <td>0.804346</td>\n",
              "      <td>-0.033304</td>\n",
              "      <td>0.350887</td>\n",
              "      <td>0.435210</td>\n",
              "    </tr>\n",
              "    <tr>\n",
              "      <th>4</th>\n",
              "      <td>-0.109812</td>\n",
              "      <td>0.382028</td>\n",
              "      <td>0.208525</td>\n",
              "      <td>0.060849</td>\n",
              "    </tr>\n",
              "    <tr>\n",
              "      <th>5</th>\n",
              "      <td>0.295427</td>\n",
              "      <td>-0.093575</td>\n",
              "      <td>-0.064323</td>\n",
              "      <td>0.106154</td>\n",
              "    </tr>\n",
              "  </tbody>\n",
              "</table>\n",
              "</div>\n",
              "      <button class=\"colab-df-convert\" onclick=\"convertToInteractive('df-83c1e83c-c0bb-4ccf-b288-bf1b3992bc36')\"\n",
              "              title=\"Convert this dataframe to an interactive table.\"\n",
              "              style=\"display:none;\">\n",
              "        \n",
              "  <svg xmlns=\"http://www.w3.org/2000/svg\" height=\"24px\"viewBox=\"0 0 24 24\"\n",
              "       width=\"24px\">\n",
              "    <path d=\"M0 0h24v24H0V0z\" fill=\"none\"/>\n",
              "    <path d=\"M18.56 5.44l.94 2.06.94-2.06 2.06-.94-2.06-.94-.94-2.06-.94 2.06-2.06.94zm-11 1L8.5 8.5l.94-2.06 2.06-.94-2.06-.94L8.5 2.5l-.94 2.06-2.06.94zm10 10l.94 2.06.94-2.06 2.06-.94-2.06-.94-.94-2.06-.94 2.06-2.06.94z\"/><path d=\"M17.41 7.96l-1.37-1.37c-.4-.4-.92-.59-1.43-.59-.52 0-1.04.2-1.43.59L10.3 9.45l-7.72 7.72c-.78.78-.78 2.05 0 2.83L4 21.41c.39.39.9.59 1.41.59.51 0 1.02-.2 1.41-.59l7.78-7.78 2.81-2.81c.8-.78.8-2.07 0-2.86zM5.41 20L4 18.59l7.72-7.72 1.47 1.35L5.41 20z\"/>\n",
              "  </svg>\n",
              "      </button>\n",
              "      \n",
              "  <style>\n",
              "    .colab-df-container {\n",
              "      display:flex;\n",
              "      flex-wrap:wrap;\n",
              "      gap: 12px;\n",
              "    }\n",
              "\n",
              "    .colab-df-convert {\n",
              "      background-color: #E8F0FE;\n",
              "      border: none;\n",
              "      border-radius: 50%;\n",
              "      cursor: pointer;\n",
              "      display: none;\n",
              "      fill: #1967D2;\n",
              "      height: 32px;\n",
              "      padding: 0 0 0 0;\n",
              "      width: 32px;\n",
              "    }\n",
              "\n",
              "    .colab-df-convert:hover {\n",
              "      background-color: #E2EBFA;\n",
              "      box-shadow: 0px 1px 2px rgba(60, 64, 67, 0.3), 0px 1px 3px 1px rgba(60, 64, 67, 0.15);\n",
              "      fill: #174EA6;\n",
              "    }\n",
              "\n",
              "    [theme=dark] .colab-df-convert {\n",
              "      background-color: #3B4455;\n",
              "      fill: #D2E3FC;\n",
              "    }\n",
              "\n",
              "    [theme=dark] .colab-df-convert:hover {\n",
              "      background-color: #434B5C;\n",
              "      box-shadow: 0px 1px 3px 1px rgba(0, 0, 0, 0.15);\n",
              "      filter: drop-shadow(0px 1px 2px rgba(0, 0, 0, 0.3));\n",
              "      fill: #FFFFFF;\n",
              "    }\n",
              "  </style>\n",
              "\n",
              "      <script>\n",
              "        const buttonEl =\n",
              "          document.querySelector('#df-83c1e83c-c0bb-4ccf-b288-bf1b3992bc36 button.colab-df-convert');\n",
              "        buttonEl.style.display =\n",
              "          google.colab.kernel.accessAllowed ? 'block' : 'none';\n",
              "\n",
              "        async function convertToInteractive(key) {\n",
              "          const element = document.querySelector('#df-83c1e83c-c0bb-4ccf-b288-bf1b3992bc36');\n",
              "          const dataTable =\n",
              "            await google.colab.kernel.invokeFunction('convertToInteractive',\n",
              "                                                     [key], {});\n",
              "          if (!dataTable) return;\n",
              "\n",
              "          const docLinkHtml = 'Like what you see? Visit the ' +\n",
              "            '<a target=\"_blank\" href=https://colab.research.google.com/notebooks/data_table.ipynb>data table notebook</a>'\n",
              "            + ' to learn more about interactive tables.';\n",
              "          element.innerHTML = '';\n",
              "          dataTable['output_type'] = 'display_data';\n",
              "          await google.colab.output.renderOutput(dataTable, element);\n",
              "          const docLink = document.createElement('div');\n",
              "          docLink.innerHTML = docLinkHtml;\n",
              "          element.appendChild(docLink);\n",
              "        }\n",
              "      </script>\n",
              "    </div>\n",
              "  </div>\n",
              "  "
            ]
          },
          "metadata": {},
          "execution_count": 102
        }
      ]
    },
    {
      "cell_type": "code",
      "source": [
        "np.array([[6.99701826, 6.01365855, 6.99771103, 3.99912263, 5.00242315, 3.99538269, 5.9838271 ],\n",
        "       [5.9989501 , 6.98556526,        np.nan, 4.00205566, 3.00083937, 3.99778344, 7.01523193],\n",
        "       [       np.nan, 2.99561491, 3.00100138, 0.99857788, 1.00199939, np.nan, 3.00501033],\n",
        "       [1.00246134, 1.9983931 , 3.00104609, 2.9972323 , 3.00156812, 4.00365659, 2.00315068],\n",
        "       [0.99010626,        np.nan, 1.01786441, 1.97618874, 3.04394068, 2.97602526, 2.99476216],\n",
        "       [1.00198988, 5.00946122, 0.97679499, 2.02849337, 2.96021514, 3.01236376, 4.98515699]])"
      ],
      "metadata": {
        "colab": {
          "base_uri": "https://localhost:8080/"
        },
        "id": "r6OoWytOMkXv",
        "outputId": "c7c89f52-1c2d-4439-904a-616cd81c39ca"
      },
      "execution_count": null,
      "outputs": [
        {
          "output_type": "execute_result",
          "data": {
            "text/plain": [
              "array([[6.99701826, 6.01365855, 6.99771103, 3.99912263, 5.00242315,\n",
              "        3.99538269, 5.9838271 ],\n",
              "       [5.9989501 , 6.98556526,        nan, 4.00205566, 3.00083937,\n",
              "        3.99778344, 7.01523193],\n",
              "       [       nan, 2.99561491, 3.00100138, 0.99857788, 1.00199939,\n",
              "               nan, 3.00501033],\n",
              "       [1.00246134, 1.9983931 , 3.00104609, 2.9972323 , 3.00156812,\n",
              "        4.00365659, 2.00315068],\n",
              "       [0.99010626,        nan, 1.01786441, 1.97618874, 3.04394068,\n",
              "        2.97602526, 2.99476216],\n",
              "       [1.00198988, 5.00946122, 0.97679499, 2.02849337, 2.96021514,\n",
              "        3.01236376, 4.98515699]])"
            ]
          },
          "metadata": {},
          "execution_count": 48
        }
      ]
    },
    {
      "cell_type": "markdown",
      "source": [
        "# R init için optimal model"
      ],
      "metadata": {
        "id": "dOs5i-wCrOYw"
      }
    },
    {
      "cell_type": "code",
      "source": [
        "import numpy as np\n",
        "r = np.array([[7, 6, 7, 4, 5, 4,6],\n",
        "              [6, 7, np.nan, 4, 3, 4,7],\n",
        "              [np.nan, 3, 3, 1, 1, np.nan,3],\n",
        "              [1, 2, 3, 3, 3, 4,2],\n",
        "              [1, np.nan, 1, 2, 3, 3,3],\n",
        "              [1, 5, 1, 2, 3, 3,5]])\n",
        "\n",
        "\n",
        "def Item_based_model(r,u,j,top_k):\n",
        "\n",
        "  Rut,Mj,Mu=ItemBased_model.predict_single_rate(r,u,j, top_k)\n",
        "  return Rut,Mj,Mu\n",
        "\n",
        "def User_based_model(r,u,j,top_k):\n",
        "\n",
        "  Rvj,Mv,Mu=UserBased_model.predict_single_rate(r,u,j, top_k)\n",
        "  return Rvj,Mv,Mu\n",
        "\n",
        "\n",
        "def Combined_SGD(r,top_k,beta,zero_mean,idf,lamb,alpha,max_iter):\n",
        "  users,items=r.shape\n",
        "  w_users=np.random.rand(users,top_k)\n",
        "  w_items=np.random.rand(top_k,items)\n",
        "  grad_users=np.zeros(top_k)\n",
        "  grad_items=np.zeros(top_k)\n",
        "\n",
        "\n",
        "  \n",
        "\n",
        "  r_pred=np.full((r.shape),np.nan)\n",
        "\n",
        "  for iter in range(max_iter):\n",
        "    loss=0\n",
        "    Cum_loss=0\n",
        "\n",
        "    for u in range(users):\n",
        "      for j in range(items):\n",
        "        if np.isnan(r[u][j]): # zaten bilmediğim değeri tahmin edemem NANları nasıl tahmin ederim\n",
        "          continue\n",
        "        else:\n",
        "          ItemBased_model = UserBased(zero_mean=zero_mean, beta=beta, idf=idf)\n",
        "          ItemBased_model.fit(r.T)\n",
        "\n",
        "          UserBased_model = UserBased(zero_mean=zero_mean, beta=beta, idf=idf)\n",
        "          UserBased_model.fit(r)\n",
        "          \n",
        "          Rvj,Mv,Mu=UserBased_model.predict_single_rate(r,u,j, top_k)\n",
        "          Rut,Mj,Mu=ItemBased_model.predict_single_rate(r.T,j,u, top_k)\n",
        "\n",
        "          r_pred[u][j]= Mu + np.dot(w_users[u,:],Rvj-Mv) + np.dot(w_items[:,j],Rut-Mj)\n",
        "\n",
        "          loss+= (r[u][j] - r_pred[u][j])**2 #train test splitte ayır bunları\n",
        "\n",
        "          grad_users = -2*np.dot((r[u][j] - r_pred[u][j]),(Rvj-Mv))\n",
        "          grad_items = -2*np.dot((r[u][j] - r_pred[u][j]),(Rut-Mj))\n",
        "\n",
        "          w_users_prev=w_users.copy()\n",
        "          w_items_prev=w_items.copy()\n",
        "\n",
        "          w_users[u,:] = w_users[u,:] - alpha * grad_users\n",
        "          w_items[:,j] = w_items[:,j] - alpha * grad_items\n",
        "          \n",
        "          Cum_loss+= np.nansum((r-r_pred)**2)\n",
        "          \n",
        "\n",
        "    if(iter%10 == 0):\n",
        "        print(f\"iteration: ({iter}) , gradient: {np.linalg.norm(grad_users)+np.linalg.norm(grad_items):.3f}, loss={loss:.3f}, Total error: {Cum_loss:.3f}\")\n",
        "        \n",
        "    if np.linalg.norm(w_users-w_users_prev)+np.linalg.norm(w_items-w_items_prev) < 0.000002:\n",
        "        print(f\"I do early stoping at iteration {iter}\")\n",
        "        break\n",
        "  return r_pred,w_users,w_items\n",
        "\n",
        "#users,items=r.shape\n",
        "# w_users=np.random.rand(users,top_k)\n",
        "# w_items=np.random.rand(top_k,items)\n",
        "# grad=np.zeros(top_k)\n",
        "r=r\n",
        "top_k=2\n",
        "alpha=(3)*10**-2\n",
        "max_iter=100\n",
        "beta=1\n",
        "zero_mean=True\n",
        "lamb=1\n",
        "idf=False\n",
        "r_pred,w_users,w_items=Combined_SGD(r,top_k,beta,zero_mean,idf,lamb,alpha,max_iter)\n",
        "np.set_printoptions(precision=0, suppress=True)\n",
        "print(r_pred)"
      ],
      "metadata": {
        "id": "cMQsHP7__ndg",
        "colab": {
          "base_uri": "https://localhost:8080/"
        },
        "outputId": "84e6e40a-f64c-4a43-d765-23c5646a1c58"
      },
      "execution_count": 217,
      "outputs": [
        {
          "output_type": "stream",
          "name": "stdout",
          "text": [
            "iteration: (0) , gradient: 7.887, loss=214.037, Total error: 5978.259\n",
            "iteration: (10) , gradient: 3.669, loss=2.014, Total error: 82.754\n",
            "iteration: (20) , gradient: 3.319, loss=0.741, Total error: 29.168\n",
            "iteration: (30) , gradient: 2.661, loss=0.401, Total error: 15.713\n",
            "iteration: (40) , gradient: 1.982, loss=0.216, Total error: 8.456\n",
            "iteration: (50) , gradient: 1.430, loss=0.118, Total error: 4.599\n",
            "iteration: (60) , gradient: 1.026, loss=0.068, Total error: 2.660\n",
            "iteration: (70) , gradient: 0.744, loss=0.043, Total error: 1.677\n",
            "iteration: (80) , gradient: 0.552, loss=0.030, Total error: 1.154\n",
            "iteration: (90) , gradient: 0.421, loss=0.022, Total error: 0.857\n",
            "[[ 7.  6. ...  4.  6.]\n",
            " [ 6.  7. ...  4.  7.]\n",
            " ...\n",
            " [ 1. nan ...  3.  3.]\n",
            " [ 1.  5. ...  3.  5.]]\n"
          ]
        }
      ]
    },
    {
      "cell_type": "code",
      "execution_count": null,
      "metadata": {
        "colab": {
          "base_uri": "https://localhost:8080/"
        },
        "id": "vPgsW9H8xbQ5",
        "outputId": "a8825215-d212-47c5-dafd-fcd04d154a6f"
      },
      "outputs": [
        {
          "data": {
            "text/plain": [
              "array([0., 0., 0.])"
            ]
          },
          "execution_count": 65,
          "metadata": {},
          "output_type": "execute_result"
        }
      ],
      "source": [
        "grad=np.zeros(top_k)\n",
        "grad"
      ]
    },
    {
      "cell_type": "code",
      "execution_count": null,
      "metadata": {
        "colab": {
          "base_uri": "https://localhost:8080/"
        },
        "id": "Gf0XIvRXxbjd",
        "outputId": "a5a80f84-4036-4c70-b205-71b2cf430cc7"
      },
      "outputs": [
        {
          "name": "stdout",
          "output_type": "stream",
          "text": [
            "[334.73485311]\n"
          ]
        }
      ],
      "source": [
        "users,items=r.shape\n",
        "top_k=3\n",
        "w_users=np.random.rand(1,top_k)\n",
        "loss=0\n",
        "grad=np.zeros(top_k)\n",
        "for u in range(users):\n",
        "  for j in range(items):\n",
        "    if np.isnan(r[u][j]):\n",
        "      continue\n",
        "    Rvj,Mv,Mu=UserBased_model.predict_single_rate(r,u,j, top_k=3) # bunun icine itemi de gom tek seferde hallet\n",
        "    loss+= (r[u][j] - Mu + np.dot(w_users,Rvj-Mv))**2\n",
        "print(loss)"
      ]
    },
    {
      "cell_type": "code",
      "execution_count": null,
      "metadata": {
        "id": "tZjwDYKihTW9"
      },
      "outputs": [],
      "source": [
        "def User_Item_Combined(x, y): # -> np.ndarray:\n",
        "    theta=5\n",
        "    beta = np.random.random(2)\n",
        "    alpha=1.2*10**-2\n",
        "\n",
        "    for i in range(1000000):\n",
        "        y_pred= beta[0] + beta[1] * x    \n",
        "       \n",
        "        # Update Functions:\n",
        "        g_b0 = -2 * ((y - y_pred).mean()) * np.power(np.e,(-1*np.power(((y - y_pred).mean()),2)/theta)) \n",
        "        g_b1 = -2 * ((x * (y - y_pred)).mean()) * np.power(np.e,(-1*np.power(((y - y_pred).mean()),2)/theta)) \n",
        "\n",
        "        beta_prev = np.copy(beta)\n",
        "\n",
        "\n",
        "        beta[0] = beta[0] - alpha * g_b0\n",
        "        beta[1] = beta[1] - alpha * g_b1\n",
        "        \n",
        "        if(i%1000 == 0):\n",
        "            print(f\"iteration: ({i}) beta: {beta}, gradient: {g_b0} {g_b1}\")\n",
        "            \n",
        "        if np.linalg.norm(beta - beta_prev) < 0.00000001:\n",
        "            print(f\"I do early stoping at iteration {i}\")\n",
        "            break\n",
        "\n",
        "\n",
        "    return beta"
      ]
    },
    {
      "cell_type": "code",
      "execution_count": null,
      "metadata": {
        "id": "zqciVtMshVYh"
      },
      "outputs": [],
      "source": [
        "beta=User_Item_Combined(X, y)\n",
        "beta"
      ]
    },
    {
      "cell_type": "code",
      "execution_count": null,
      "metadata": {
        "id": "sRASBcl3VMng"
      },
      "outputs": [],
      "source": [
        "r.T"
      ]
    },
    {
      "cell_type": "code",
      "execution_count": null,
      "metadata": {
        "id": "UFmGk0beCce5"
      },
      "outputs": [],
      "source": [
        "import pandas as pd\n",
        "import numpy as np\n",
        "df = pd.read_csv('https://files.grouplens.org/datasets/movielens/ml-100k/u.data', delimiter=r'\\t',\n",
        "names=['user_id', 'item_id', 'rating', 'timestamp'])\n",
        "r = df.pivot(index='user_id', columns='item_id', values='rating').values"
      ]
    },
    {
      "cell_type": "code",
      "execution_count": null,
      "metadata": {
        "id": "L2_pRCeeCjlQ"
      },
      "outputs": [],
      "source": [
        "r"
      ]
    },
    {
      "cell_type": "markdown",
      "metadata": {
        "id": "Zl9M5yxL2GHe"
      },
      "source": [
        "# Model 1"
      ]
    },
    {
      "cell_type": "markdown",
      "metadata": {
        "id": "jOTORLlY2Knv"
      },
      "source": [
        "Part *1*:"
      ]
    },
    {
      "cell_type": "code",
      "execution_count": null,
      "metadata": {
        "id": "l2aduUTi2Na_"
      },
      "outputs": [],
      "source": [
        "Casting yapmalı mıyım 4.7 to 5 gibi\n",
        "mu iki kere ekleme bir kere eklenecek"
      ]
    },
    {
      "cell_type": "code",
      "execution_count": null,
      "metadata": {
        "id": "M4esZV1DGT1Q"
      },
      "outputs": [],
      "source": [
        "r = np.array([[7, 6, 7, 4, 5, 4],\n",
        "              [6, 7, np.nan, 4, 3, 4],\n",
        "              [np.nan, 3, 3, 1, 1, np.nan],\n",
        "              [1, 2, 3, 3, 3, 4],\n",
        "              [1, np.nan, 1, 2, 3, 3]])"
      ]
    },
    {
      "cell_type": "code",
      "execution_count": null,
      "metadata": {
        "id": "HMzJBGTQINZg"
      },
      "outputs": [],
      "source": [
        "r"
      ]
    },
    {
      "cell_type": "code",
      "execution_count": null,
      "metadata": {
        "id": "ugom9IO5UBiL"
      },
      "outputs": [],
      "source": [
        ""
      ]
    },
    {
      "cell_type": "code",
      "execution_count": null,
      "metadata": {
        "id": "e-UOviLRGVRl"
      },
      "outputs": [],
      "source": [
        "m, n = r.shape\n",
        "mu = np.nanmean(r, axis=1)\n",
        "beta=3\n",
        "\n",
        "\n",
        "sim = np.zeros((m, m))\n",
        "sim"
      ]
    },
    {
      "cell_type": "code",
      "execution_count": null,
      "metadata": {
        "id": "L4EFSe0EItdr"
      },
      "outputs": [],
      "source": [
        "\n",
        "\n",
        "idf = np.log(1 + m / (~np.isnan(r)).sum(axis=0))\n",
        "idf"
      ]
    },
    {
      "cell_type": "code",
      "execution_count": null,
      "metadata": {
        "id": "wkkEpafvIxyy"
      },
      "outputs": [],
      "source": [
        "\n",
        "\n",
        "\n",
        "for i in range(m):\n",
        "    for j in range(m):\n",
        "        mask = ~np.isnan(r[i, :]) & ~np.isnan(r[j, :])\n",
        "\n",
        "        si = r[i, mask] - mu[i]\n",
        "        sj = r[j, mask] - mu[j]\n",
        "\n",
        "        sim[i][j] = (si * sj * idf[mask]).sum() / (\n",
        "                np.sqrt((idf[mask] * (si ** 2)).sum()) * np.sqrt((idf[mask] * (sj ** 2)).sum()))\n",
        "\n",
        "        total_intersection = mask.sum()\n",
        "\n",
        "        sim[i][j] *= min(total_intersection, beta) / beta\n",
        "\n",
        "sim"
      ]
    },
    {
      "cell_type": "code",
      "execution_count": null,
      "metadata": {
        "id": "b1UsknZ6I8ip"
      },
      "outputs": [],
      "source": [
        "r"
      ]
    },
    {
      "cell_type": "code",
      "execution_count": null,
      "metadata": {
        "id": "kGBd1slPHvj5"
      },
      "outputs": [],
      "source": [
        "j= 3\n",
        "i= \n",
        "mask = ~np.isnan(r[i, :]) & ~np.isnan(r[j, :])\n"
      ]
    },
    {
      "cell_type": "code",
      "execution_count": null,
      "metadata": {
        "id": "yOrO3EaIH_x_"
      },
      "outputs": [],
      "source": [
        "topk_users = users_rated_j[self.sim[u, users_rated_j].argsort()[::-1][:top_k]]\n",
        "\n",
        "mean_centered_topk_user_rate = r[topk_users, j] - self.mu[topk_users]\n",
        "\n",
        "w = self.sim[u, topk_users]\n",
        "\n",
        "result= np.dot(mean_centered_topk_user_rate, w) / np.abs(w).sum() + self.mu[u]"
      ]
    },
    {
      "cell_type": "code",
      "execution_count": null,
      "metadata": {
        "id": "Iwyo2-1JFl_k"
      },
      "outputs": [],
      "source": [
        "r_row,r_col=r.shape"
      ]
    },
    {
      "cell_type": "code",
      "execution_count": null,
      "metadata": {
        "id": "ExazVbiHFm27"
      },
      "outputs": [],
      "source": [
        "for u in range(r_row): # user sayısı kadar don\n",
        "  for j in range(r_col): # item sayısı kadar don\n",
        "  "
      ]
    },
    {
      "cell_type": "code",
      "execution_count": null,
      "metadata": {
        "id": "TtSzFjdBF30W"
      },
      "outputs": [],
      "source": [
        ""
      ]
    }
  ],
  "metadata": {
    "colab": {
      "collapsed_sections": [],
      "name": "YouDo 2.ipynb",
      "provenance": [],
      "authorship_tag": "ABX9TyOvjyK6xh1J2BWE9lQQEqQS",
      "include_colab_link": true
    },
    "kernelspec": {
      "display_name": "Python 3",
      "name": "python3"
    },
    "language_info": {
      "name": "python"
    }
  },
  "nbformat": 4,
  "nbformat_minor": 0
}